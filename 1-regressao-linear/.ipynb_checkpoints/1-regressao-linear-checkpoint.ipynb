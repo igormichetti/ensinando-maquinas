{
 "cells": [
  {
   "cell_type": "markdown",
   "id": "675b931a",
   "metadata": {},
   "source": [
    "# Capítulo 1 - Regressão Linear\n",
    "\n",
    "## Nesse capítulo vamos estudar:\n",
    "\n",
    "- O conceito de regressão.\n",
    "\n",
    "- Como manipular os dados para atingirmos nosso objetivo.\n",
    "\n",
    "- Como visualizarmos nossos dados para nos auxiliar com nossa exploração.\n",
    "\n",
    "- Regressão Linear usando a fórmula da Equação Normal.\n",
    "\n",
    "## 1. O que é uma regressão?\n",
    "\n",
    "Regressão é uma técnica muito comum em Aprendizado de Máquina, que é usada para estudar relacionamentos entre variáveis independentes para prever um resultado de uma variável dependente.\n",
    "\n",
    "Nesse caso, uma Regressão Linear é usada para prever um dado \"Y\" dado uma ou mais variáveis X, Z,..., etc. Vamos ver essa técnica em prática para ter uma melhor representação."
   ]
  },
  {
   "cell_type": "code",
   "execution_count": 1,
   "id": "02d0a5af",
   "metadata": {},
   "outputs": [],
   "source": [
    "## Primeiramente, vamos verificar nosso ambiente e fazer a importação das bibliotecas nescessárias.\n",
    "\n",
    "# Vamos usar uma versao do Python ≥ 3.5\n",
    "import sys\n",
    "assert sys.version_info >= (3, 5)\n",
    "\n",
    "# E uma versao da Scikit-Learn ≥0.20\n",
    "import sklearn\n",
    "assert sklearn.__version__ >= \"0.20\"\n",
    "\n",
    "# Vamos importar Numpy para certos calculos matematicos e Pandas para analize e manipulação de dados.\n",
    "import numpy as np\n",
    "import pandas as pd\n",
    "\n",
    "# Vamos definar a nossa random seed, para que os resultados sejam replicaveis.\n",
    "np.random.seed(42)\n",
    "\n",
    "# E finalmente, vamos importar a biblioteca MatplotLib para visualizar os dados.\n",
    "%matplotlib inline\n",
    "import matplotlib as mpl\n",
    "import matplotlib.pyplot as plt\n",
    "mpl.style.use(\"seaborn\")\n",
    "mpl.rc('axes', labelsize=14)\n",
    "mpl.rc('xtick', labelsize=12)\n",
    "mpl.rc('ytick', labelsize=12)\n",
    "mpl.rcParams['axes.facecolor'] = 'gainsboro'\n",
    "mpl.rcParams.update({\"axes.grid\" : True, \"grid.color\": \"grey\"})\n",
    "\n",
    "### Nota: caso haja qualquer dúvida sempre Bibliotecas ou suas funções, as suas documentações estão disponíveis\n",
    "### no arquivo README.txt. Você também pode usar a função \"help(**insira a funcao aqui**)\" para ter uma\n",
    "### explicação detalhada dentro do notebook."
   ]
  },
  {
   "cell_type": "markdown",
   "id": "7e75f4f0",
   "metadata": {},
   "source": [
    "<br><br>\n",
    "## 2. Aquisição e Manipulação dos Dados"
   ]
  },
  {
   "cell_type": "markdown",
   "id": "cde961ea",
   "metadata": {},
   "source": [
    "## Vamos abrir e analizar nosso dataset. \n",
    "\n",
    "O dataset que usaremos foi obtido no site Kaggle(www.kaggle.com/code/faressayah/stock-market-analysis-prediction-using-lstm). Nesse site, além de vários datasets públicos, também contem competições e informações para você desenvolver projetos de Aprendizado de Máquina. Recomendo prestar uma visita e por a mão a massa após o termino desse Notebook.\n",
    "\n",
    "\n",
    "### Sobre o dataset:\n",
    "\n",
    "Esse dataset contém as informações essenciais sobre o preço das ações da Apple Inc.(AAPL), de 2010 a 2020. \n",
    "Vamos utiliza-lo de forma educativa, para tentar prever os preços das ações com base nos seus dados anteriores.\n",
    "<br><br><br>"
   ]
  },
  {
   "cell_type": "code",
   "execution_count": 2,
   "id": "68d083bb",
   "metadata": {
    "scrolled": false
   },
   "outputs": [],
   "source": [
    "# Vamos importar o dataset usando o Pandas\n",
    "\n",
    "import pandas as pd\n",
    "aapl = pd.read_csv(\"../datasets/aapl-stocks.csv\")"
   ]
  },
  {
   "cell_type": "code",
   "execution_count": 3,
   "id": "1a676f2f",
   "metadata": {
    "scrolled": false
   },
   "outputs": [
    {
     "data": {
      "text/html": [
       "<div>\n",
       "<style scoped>\n",
       "    .dataframe tbody tr th:only-of-type {\n",
       "        vertical-align: middle;\n",
       "    }\n",
       "\n",
       "    .dataframe tbody tr th {\n",
       "        vertical-align: top;\n",
       "    }\n",
       "\n",
       "    .dataframe thead th {\n",
       "        text-align: right;\n",
       "    }\n",
       "</style>\n",
       "<table border=\"1\" class=\"dataframe\">\n",
       "  <thead>\n",
       "    <tr style=\"text-align: right;\">\n",
       "      <th></th>\n",
       "      <th>Date</th>\n",
       "      <th>Close</th>\n",
       "      <th>Volume</th>\n",
       "      <th>Open</th>\n",
       "      <th>High</th>\n",
       "      <th>Low</th>\n",
       "    </tr>\n",
       "  </thead>\n",
       "  <tbody>\n",
       "    <tr>\n",
       "      <th>0</th>\n",
       "      <td>02/28/2020</td>\n",
       "      <td>273.36</td>\n",
       "      <td>106721200</td>\n",
       "      <td>$257.26</td>\n",
       "      <td>$278.41</td>\n",
       "      <td>$256.37</td>\n",
       "    </tr>\n",
       "    <tr>\n",
       "      <th>1</th>\n",
       "      <td>02/27/2020</td>\n",
       "      <td>$273.52</td>\n",
       "      <td>80151380</td>\n",
       "      <td>$281.1</td>\n",
       "      <td>$286</td>\n",
       "      <td>$272.96</td>\n",
       "    </tr>\n",
       "    <tr>\n",
       "      <th>2</th>\n",
       "      <td>02/26/2020</td>\n",
       "      <td>$292.65</td>\n",
       "      <td>49678430</td>\n",
       "      <td>$286.53</td>\n",
       "      <td>$297.88</td>\n",
       "      <td>$286.5</td>\n",
       "    </tr>\n",
       "    <tr>\n",
       "      <th>3</th>\n",
       "      <td>02/25/2020</td>\n",
       "      <td>$288.08</td>\n",
       "      <td>57668360</td>\n",
       "      <td>$300.95</td>\n",
       "      <td>$302.53</td>\n",
       "      <td>$286.13</td>\n",
       "    </tr>\n",
       "    <tr>\n",
       "      <th>4</th>\n",
       "      <td>02/24/2020</td>\n",
       "      <td>$298.18</td>\n",
       "      <td>55548830</td>\n",
       "      <td>$297.26</td>\n",
       "      <td>$304.18</td>\n",
       "      <td>$289.23</td>\n",
       "    </tr>\n",
       "  </tbody>\n",
       "</table>\n",
       "</div>"
      ],
      "text/plain": [
       "         Date     Close     Volume      Open      High       Low\n",
       "0  02/28/2020    273.36  106721200   $257.26   $278.41   $256.37\n",
       "1  02/27/2020   $273.52   80151380    $281.1      $286   $272.96\n",
       "2  02/26/2020   $292.65   49678430   $286.53   $297.88    $286.5\n",
       "3  02/25/2020   $288.08   57668360   $300.95   $302.53   $286.13\n",
       "4  02/24/2020   $298.18   55548830   $297.26   $304.18   $289.23"
      ]
     },
     "execution_count": 3,
     "metadata": {},
     "output_type": "execute_result"
    }
   ],
   "source": [
    "# Agora vamos fazer uma rápida análise\n",
    "\n",
    "## A função do Pandas \".head()\" mostra as 5 primeiras amostrar dos nossos dados.\n",
    "## Isso é muito útil, pois podemos ter uma noção de cada caracteristica dos nosso dataset.\n",
    "aapl.head()"
   ]
  },
  {
   "cell_type": "markdown",
   "id": "36ac7902",
   "metadata": {},
   "source": [
    ">Isso é um dataset, um conjunto de dados em forma de uma matriz, com cada coluna sendo uma característica do nosso dado, e cada linha, uma amostra do mesmo. Nesse caso temos o dado preço de ações da Apple Inc. Cada linha são suas informações de acordo com o dia que esse dado foi gerado. Nesse dataset, temos 2518 amostra(dias e seus respectivos preços), e cada variável, ou característica, são suas respectivas colunas, ou seja, temos 6 caracteŕisticas.\n",
    "\n",
    ">*Podemos observar que os preços então representados em dólar americano, e contendo o seu símbolo. Como precisamos dos números para fazer os cálculos, vamos converter essas moedas e floats.*\n",
    "\n",
    "<br>\n"
   ]
  },
  {
   "cell_type": "code",
   "execution_count": 4,
   "id": "94c9f57f",
   "metadata": {},
   "outputs": [
    {
     "data": {
      "text/html": [
       "<div>\n",
       "<style scoped>\n",
       "    .dataframe tbody tr th:only-of-type {\n",
       "        vertical-align: middle;\n",
       "    }\n",
       "\n",
       "    .dataframe tbody tr th {\n",
       "        vertical-align: top;\n",
       "    }\n",
       "\n",
       "    .dataframe thead th {\n",
       "        text-align: right;\n",
       "    }\n",
       "</style>\n",
       "<table border=\"1\" class=\"dataframe\">\n",
       "  <thead>\n",
       "    <tr style=\"text-align: right;\">\n",
       "      <th></th>\n",
       "      <th>Date</th>\n",
       "      <th>Close</th>\n",
       "      <th>Volume</th>\n",
       "      <th>Open</th>\n",
       "      <th>High</th>\n",
       "      <th>Low</th>\n",
       "    </tr>\n",
       "  </thead>\n",
       "  <tbody>\n",
       "    <tr>\n",
       "      <th>0</th>\n",
       "      <td>02/28/2020</td>\n",
       "      <td>273.36</td>\n",
       "      <td>106721200</td>\n",
       "      <td>257.26</td>\n",
       "      <td>278.41</td>\n",
       "      <td>256.37</td>\n",
       "    </tr>\n",
       "    <tr>\n",
       "      <th>1</th>\n",
       "      <td>02/27/2020</td>\n",
       "      <td>273.52</td>\n",
       "      <td>80151380</td>\n",
       "      <td>281.10</td>\n",
       "      <td>286.00</td>\n",
       "      <td>272.96</td>\n",
       "    </tr>\n",
       "    <tr>\n",
       "      <th>2</th>\n",
       "      <td>02/26/2020</td>\n",
       "      <td>292.65</td>\n",
       "      <td>49678430</td>\n",
       "      <td>286.53</td>\n",
       "      <td>297.88</td>\n",
       "      <td>286.50</td>\n",
       "    </tr>\n",
       "    <tr>\n",
       "      <th>3</th>\n",
       "      <td>02/25/2020</td>\n",
       "      <td>288.08</td>\n",
       "      <td>57668360</td>\n",
       "      <td>300.95</td>\n",
       "      <td>302.53</td>\n",
       "      <td>286.13</td>\n",
       "    </tr>\n",
       "    <tr>\n",
       "      <th>4</th>\n",
       "      <td>02/24/2020</td>\n",
       "      <td>298.18</td>\n",
       "      <td>55548830</td>\n",
       "      <td>297.26</td>\n",
       "      <td>304.18</td>\n",
       "      <td>289.23</td>\n",
       "    </tr>\n",
       "  </tbody>\n",
       "</table>\n",
       "</div>"
      ],
      "text/plain": [
       "         Date   Close     Volume    Open    High     Low\n",
       "0  02/28/2020  273.36  106721200  257.26  278.41  256.37\n",
       "1  02/27/2020  273.52   80151380  281.10  286.00  272.96\n",
       "2  02/26/2020  292.65   49678430  286.53  297.88  286.50\n",
       "3  02/25/2020  288.08   57668360  300.95  302.53  286.13\n",
       "4  02/24/2020  298.18   55548830  297.26  304.18  289.23"
      ]
     },
     "execution_count": 4,
     "metadata": {},
     "output_type": "execute_result"
    }
   ],
   "source": [
    "# Vamos selecionar as colunas com $ e transformalas em float\n",
    "\n",
    "aapl[[\"Close\", \"Open\", \"High\", \"Low\"]] = aapl[[\"Close\", \"Open\", \"High\", \"Low\"]].replace(\"[ $,]\", \"\", regex=True).astype(float)\n",
    "aapl.head()"
   ]
  },
  {
   "cell_type": "code",
   "execution_count": 5,
   "id": "f56c9aec",
   "metadata": {
    "scrolled": false
   },
   "outputs": [
    {
     "name": "stdout",
     "output_type": "stream",
     "text": [
      "<class 'pandas.core.frame.DataFrame'>\n",
      "RangeIndex: 2518 entries, 0 to 2517\n",
      "Data columns (total 6 columns):\n",
      " #   Column  Non-Null Count  Dtype  \n",
      "---  ------  --------------  -----  \n",
      " 0   Date    2518 non-null   object \n",
      " 1   Close   2518 non-null   float64\n",
      " 2   Volume  2518 non-null   int64  \n",
      " 3   Open    2518 non-null   float64\n",
      " 4   High    2518 non-null   float64\n",
      " 5   Low     2518 non-null   float64\n",
      "dtypes: float64(4), int64(1), object(1)\n",
      "memory usage: 118.2+ KB\n"
     ]
    }
   ],
   "source": [
    "# Agora vamos analizar as informações numéricas de cada coluna.\n",
    "\n",
    "aapl.info()"
   ]
  },
  {
   "cell_type": "markdown",
   "id": "12fc9f81",
   "metadata": {},
   "source": [
    ">*Podemos notar que as colunas foram formatadas com sucesso, e não a nenhum valor nulo para nos preocuparmos. Porém ainda precisamos lidar com a coluna \"Data\", pois ela está formatada como um Objeto(um texto), e queremos utiliza-la no formato numérico \"datetime\", pois vamos usar esses dados de forma cronológica.*\n",
    "<br>"
   ]
  },
  {
   "cell_type": "code",
   "execution_count": 6,
   "id": "4774c1c8",
   "metadata": {
    "scrolled": true
   },
   "outputs": [
    {
     "data": {
      "text/plain": [
       "count           2518\n",
       "unique          2518\n",
       "top       2020-02-28\n",
       "freq               1\n",
       "Name: Date, dtype: object"
      ]
     },
     "execution_count": 6,
     "metadata": {},
     "output_type": "execute_result"
    }
   ],
   "source": [
    "# Vamos formatar essa coluna para \"datetime\".\n",
    "\n",
    "aapl[\"Date\"] = pd.to_datetime(aapl[\"Date\"]).dt.date\n",
    "aapl[\"Date\"].describe(datetime_is_numeric=True)"
   ]
  },
  {
   "cell_type": "code",
   "execution_count": 7,
   "id": "de1c96a5",
   "metadata": {},
   "outputs": [
    {
     "data": {
      "text/html": [
       "<div>\n",
       "<style scoped>\n",
       "    .dataframe tbody tr th:only-of-type {\n",
       "        vertical-align: middle;\n",
       "    }\n",
       "\n",
       "    .dataframe tbody tr th {\n",
       "        vertical-align: top;\n",
       "    }\n",
       "\n",
       "    .dataframe thead th {\n",
       "        text-align: right;\n",
       "    }\n",
       "</style>\n",
       "<table border=\"1\" class=\"dataframe\">\n",
       "  <thead>\n",
       "    <tr style=\"text-align: right;\">\n",
       "      <th></th>\n",
       "      <th>Date</th>\n",
       "      <th>Close</th>\n",
       "      <th>Volume</th>\n",
       "      <th>Open</th>\n",
       "      <th>High</th>\n",
       "      <th>Low</th>\n",
       "      <th>Dias</th>\n",
       "    </tr>\n",
       "  </thead>\n",
       "  <tbody>\n",
       "    <tr>\n",
       "      <th>0</th>\n",
       "      <td>2020-02-28</td>\n",
       "      <td>273.3600</td>\n",
       "      <td>106721200</td>\n",
       "      <td>257.2600</td>\n",
       "      <td>278.4100</td>\n",
       "      <td>256.3700</td>\n",
       "      <td>2517</td>\n",
       "    </tr>\n",
       "    <tr>\n",
       "      <th>1</th>\n",
       "      <td>2020-02-27</td>\n",
       "      <td>273.5200</td>\n",
       "      <td>80151380</td>\n",
       "      <td>281.1000</td>\n",
       "      <td>286.0000</td>\n",
       "      <td>272.9600</td>\n",
       "      <td>2516</td>\n",
       "    </tr>\n",
       "    <tr>\n",
       "      <th>2</th>\n",
       "      <td>2020-02-26</td>\n",
       "      <td>292.6500</td>\n",
       "      <td>49678430</td>\n",
       "      <td>286.5300</td>\n",
       "      <td>297.8800</td>\n",
       "      <td>286.5000</td>\n",
       "      <td>2515</td>\n",
       "    </tr>\n",
       "    <tr>\n",
       "      <th>3</th>\n",
       "      <td>2020-02-25</td>\n",
       "      <td>288.0800</td>\n",
       "      <td>57668360</td>\n",
       "      <td>300.9500</td>\n",
       "      <td>302.5300</td>\n",
       "      <td>286.1300</td>\n",
       "      <td>2514</td>\n",
       "    </tr>\n",
       "    <tr>\n",
       "      <th>4</th>\n",
       "      <td>2020-02-24</td>\n",
       "      <td>298.1800</td>\n",
       "      <td>55548830</td>\n",
       "      <td>297.2600</td>\n",
       "      <td>304.1800</td>\n",
       "      <td>289.2300</td>\n",
       "      <td>2513</td>\n",
       "    </tr>\n",
       "    <tr>\n",
       "      <th>...</th>\n",
       "      <td>...</td>\n",
       "      <td>...</td>\n",
       "      <td>...</td>\n",
       "      <td>...</td>\n",
       "      <td>...</td>\n",
       "      <td>...</td>\n",
       "      <td>...</td>\n",
       "    </tr>\n",
       "    <tr>\n",
       "      <th>2513</th>\n",
       "      <td>2010-03-05</td>\n",
       "      <td>31.2786</td>\n",
       "      <td>224647427</td>\n",
       "      <td>30.7057</td>\n",
       "      <td>31.3857</td>\n",
       "      <td>30.6614</td>\n",
       "      <td>4</td>\n",
       "    </tr>\n",
       "    <tr>\n",
       "      <th>2514</th>\n",
       "      <td>2010-03-04</td>\n",
       "      <td>30.1014</td>\n",
       "      <td>89591907</td>\n",
       "      <td>29.8971</td>\n",
       "      <td>30.1314</td>\n",
       "      <td>29.8043</td>\n",
       "      <td>3</td>\n",
       "    </tr>\n",
       "    <tr>\n",
       "      <th>2515</th>\n",
       "      <td>2010-03-03</td>\n",
       "      <td>29.9043</td>\n",
       "      <td>92846488</td>\n",
       "      <td>29.8486</td>\n",
       "      <td>29.9814</td>\n",
       "      <td>29.7057</td>\n",
       "      <td>2</td>\n",
       "    </tr>\n",
       "    <tr>\n",
       "      <th>2516</th>\n",
       "      <td>2010-03-02</td>\n",
       "      <td>29.8357</td>\n",
       "      <td>141486282</td>\n",
       "      <td>29.9900</td>\n",
       "      <td>30.1186</td>\n",
       "      <td>29.6771</td>\n",
       "      <td>1</td>\n",
       "    </tr>\n",
       "    <tr>\n",
       "      <th>2517</th>\n",
       "      <td>2010-03-01</td>\n",
       "      <td>29.8557</td>\n",
       "      <td>137312041</td>\n",
       "      <td>29.3928</td>\n",
       "      <td>29.9286</td>\n",
       "      <td>29.3500</td>\n",
       "      <td>0</td>\n",
       "    </tr>\n",
       "  </tbody>\n",
       "</table>\n",
       "<p>2518 rows × 7 columns</p>\n",
       "</div>"
      ],
      "text/plain": [
       "            Date     Close     Volume      Open      High       Low  Dias\n",
       "0     2020-02-28  273.3600  106721200  257.2600  278.4100  256.3700  2517\n",
       "1     2020-02-27  273.5200   80151380  281.1000  286.0000  272.9600  2516\n",
       "2     2020-02-26  292.6500   49678430  286.5300  297.8800  286.5000  2515\n",
       "3     2020-02-25  288.0800   57668360  300.9500  302.5300  286.1300  2514\n",
       "4     2020-02-24  298.1800   55548830  297.2600  304.1800  289.2300  2513\n",
       "...          ...       ...        ...       ...       ...       ...   ...\n",
       "2513  2010-03-05   31.2786  224647427   30.7057   31.3857   30.6614     4\n",
       "2514  2010-03-04   30.1014   89591907   29.8971   30.1314   29.8043     3\n",
       "2515  2010-03-03   29.9043   92846488   29.8486   29.9814   29.7057     2\n",
       "2516  2010-03-02   29.8357  141486282   29.9900   30.1186   29.6771     1\n",
       "2517  2010-03-01   29.8557  137312041   29.3928   29.9286   29.3500     0\n",
       "\n",
       "[2518 rows x 7 columns]"
      ]
     },
     "execution_count": 7,
     "metadata": {},
     "output_type": "execute_result"
    }
   ],
   "source": [
    "# Vamos adicionar uma coluna \"Dias\" para representar os dias que se passaram desde a primeira acao\n",
    "aapl[\"Dias\"] = np.arange(2517, -1, -1)\n",
    "aapl"
   ]
  },
  {
   "cell_type": "markdown",
   "id": "6b7dedd9",
   "metadata": {},
   "source": [
    ">Quase pronto, porém ainda falta mais um passo. Como vamos usar dados cronológicos, é uma boa prática usar as dados em ordem ascendente. Então vamos ordenar nosso dataset."
   ]
  },
  {
   "cell_type": "code",
   "execution_count": 8,
   "id": "34459b57",
   "metadata": {},
   "outputs": [
    {
     "data": {
      "text/html": [
       "<div>\n",
       "<style scoped>\n",
       "    .dataframe tbody tr th:only-of-type {\n",
       "        vertical-align: middle;\n",
       "    }\n",
       "\n",
       "    .dataframe tbody tr th {\n",
       "        vertical-align: top;\n",
       "    }\n",
       "\n",
       "    .dataframe thead th {\n",
       "        text-align: right;\n",
       "    }\n",
       "</style>\n",
       "<table border=\"1\" class=\"dataframe\">\n",
       "  <thead>\n",
       "    <tr style=\"text-align: right;\">\n",
       "      <th></th>\n",
       "      <th>Date</th>\n",
       "      <th>Close</th>\n",
       "      <th>Volume</th>\n",
       "      <th>Open</th>\n",
       "      <th>High</th>\n",
       "      <th>Low</th>\n",
       "      <th>Dias</th>\n",
       "    </tr>\n",
       "  </thead>\n",
       "  <tbody>\n",
       "    <tr>\n",
       "      <th>0</th>\n",
       "      <td>2010-03-01</td>\n",
       "      <td>29.8557</td>\n",
       "      <td>137312041</td>\n",
       "      <td>29.3928</td>\n",
       "      <td>29.9286</td>\n",
       "      <td>29.3500</td>\n",
       "      <td>0</td>\n",
       "    </tr>\n",
       "    <tr>\n",
       "      <th>1</th>\n",
       "      <td>2010-03-02</td>\n",
       "      <td>29.8357</td>\n",
       "      <td>141486282</td>\n",
       "      <td>29.9900</td>\n",
       "      <td>30.1186</td>\n",
       "      <td>29.6771</td>\n",
       "      <td>1</td>\n",
       "    </tr>\n",
       "    <tr>\n",
       "      <th>2</th>\n",
       "      <td>2010-03-03</td>\n",
       "      <td>29.9043</td>\n",
       "      <td>92846488</td>\n",
       "      <td>29.8486</td>\n",
       "      <td>29.9814</td>\n",
       "      <td>29.7057</td>\n",
       "      <td>2</td>\n",
       "    </tr>\n",
       "    <tr>\n",
       "      <th>3</th>\n",
       "      <td>2010-03-04</td>\n",
       "      <td>30.1014</td>\n",
       "      <td>89591907</td>\n",
       "      <td>29.8971</td>\n",
       "      <td>30.1314</td>\n",
       "      <td>29.8043</td>\n",
       "      <td>3</td>\n",
       "    </tr>\n",
       "    <tr>\n",
       "      <th>4</th>\n",
       "      <td>2010-03-05</td>\n",
       "      <td>31.2786</td>\n",
       "      <td>224647427</td>\n",
       "      <td>30.7057</td>\n",
       "      <td>31.3857</td>\n",
       "      <td>30.6614</td>\n",
       "      <td>4</td>\n",
       "    </tr>\n",
       "    <tr>\n",
       "      <th>...</th>\n",
       "      <td>...</td>\n",
       "      <td>...</td>\n",
       "      <td>...</td>\n",
       "      <td>...</td>\n",
       "      <td>...</td>\n",
       "      <td>...</td>\n",
       "      <td>...</td>\n",
       "    </tr>\n",
       "    <tr>\n",
       "      <th>2513</th>\n",
       "      <td>2020-02-24</td>\n",
       "      <td>298.1800</td>\n",
       "      <td>55548830</td>\n",
       "      <td>297.2600</td>\n",
       "      <td>304.1800</td>\n",
       "      <td>289.2300</td>\n",
       "      <td>2513</td>\n",
       "    </tr>\n",
       "    <tr>\n",
       "      <th>2514</th>\n",
       "      <td>2020-02-25</td>\n",
       "      <td>288.0800</td>\n",
       "      <td>57668360</td>\n",
       "      <td>300.9500</td>\n",
       "      <td>302.5300</td>\n",
       "      <td>286.1300</td>\n",
       "      <td>2514</td>\n",
       "    </tr>\n",
       "    <tr>\n",
       "      <th>2515</th>\n",
       "      <td>2020-02-26</td>\n",
       "      <td>292.6500</td>\n",
       "      <td>49678430</td>\n",
       "      <td>286.5300</td>\n",
       "      <td>297.8800</td>\n",
       "      <td>286.5000</td>\n",
       "      <td>2515</td>\n",
       "    </tr>\n",
       "    <tr>\n",
       "      <th>2516</th>\n",
       "      <td>2020-02-27</td>\n",
       "      <td>273.5200</td>\n",
       "      <td>80151380</td>\n",
       "      <td>281.1000</td>\n",
       "      <td>286.0000</td>\n",
       "      <td>272.9600</td>\n",
       "      <td>2516</td>\n",
       "    </tr>\n",
       "    <tr>\n",
       "      <th>2517</th>\n",
       "      <td>2020-02-28</td>\n",
       "      <td>273.3600</td>\n",
       "      <td>106721200</td>\n",
       "      <td>257.2600</td>\n",
       "      <td>278.4100</td>\n",
       "      <td>256.3700</td>\n",
       "      <td>2517</td>\n",
       "    </tr>\n",
       "  </tbody>\n",
       "</table>\n",
       "<p>2518 rows × 7 columns</p>\n",
       "</div>"
      ],
      "text/plain": [
       "            Date     Close     Volume      Open      High       Low  Dias\n",
       "0     2010-03-01   29.8557  137312041   29.3928   29.9286   29.3500     0\n",
       "1     2010-03-02   29.8357  141486282   29.9900   30.1186   29.6771     1\n",
       "2     2010-03-03   29.9043   92846488   29.8486   29.9814   29.7057     2\n",
       "3     2010-03-04   30.1014   89591907   29.8971   30.1314   29.8043     3\n",
       "4     2010-03-05   31.2786  224647427   30.7057   31.3857   30.6614     4\n",
       "...          ...       ...        ...       ...       ...       ...   ...\n",
       "2513  2020-02-24  298.1800   55548830  297.2600  304.1800  289.2300  2513\n",
       "2514  2020-02-25  288.0800   57668360  300.9500  302.5300  286.1300  2514\n",
       "2515  2020-02-26  292.6500   49678430  286.5300  297.8800  286.5000  2515\n",
       "2516  2020-02-27  273.5200   80151380  281.1000  286.0000  272.9600  2516\n",
       "2517  2020-02-28  273.3600  106721200  257.2600  278.4100  256.3700  2517\n",
       "\n",
       "[2518 rows x 7 columns]"
      ]
     },
     "execution_count": 8,
     "metadata": {},
     "output_type": "execute_result"
    }
   ],
   "source": [
    "aapl = aapl.sort_index(ascending=False).reset_index(drop=True)\n",
    "aapl"
   ]
  },
  {
   "cell_type": "markdown",
   "id": "c01f3ab3",
   "metadata": {},
   "source": [
    "## 3. Visualizacão dos Dados\n",
    "\n",
    "Agora que manipulamos os dados corretamente, vamos criar um gráfico cronológico visualiza-lo para comprender o nosso objetivo.\n",
    "\n",
    "Vamos definir nosso vetor \"X\" para representar os dias, poŕem, em vez de utilizar a data como as variáveis, vamos usar nossa coluna dos dias que se passaram.\n",
    "\n",
    "Vamos definir um vetor \"Y\" para representar o preço de fechamento das ações.\n",
    "\n",
    "E vamos também definir um vetor \"Z\", representando os volumes diários.\n",
    "<br><br>"
   ]
  },
  {
   "cell_type": "code",
   "execution_count": 9,
   "id": "63f3923f",
   "metadata": {},
   "outputs": [],
   "source": [
    "#Vamos criar uma coluna ascendente \n",
    "X = aapl[\"Date\"]\n",
    "y = aapl[\"Close\"]\n",
    "Z = aapl[\"Volume\"]"
   ]
  },
  {
   "cell_type": "code",
   "execution_count": 10,
   "id": "ca07c625",
   "metadata": {
    "scrolled": true
   },
   "outputs": [
    {
     "data": {
      "image/png": "[encoded data removed]",
      "text/plain": [
       "<Figure size 1080x360 with 2 Axes>"
      ]
     },
     "metadata": {},
     "output_type": "display_data"
    }
   ],
   "source": [
    "#Usando a biblioteca Matplotlib, vamos plotar o preço de fechamento e o volume para entender melhor nosso dataset.\n",
    "\n",
    "fig, ax = plt.subplots(2, 1, figsize=(15,5), gridspec_kw={'height_ratios': [6, 1]})\n",
    "ax1, ax2 = ax\n",
    "\n",
    "ax1.plot(X, y, label=\"Preço de Fechamento\")\n",
    "ax1.fill_between(X, 0, y, alpha=0.6)\n",
    "ax1.get_xaxis().set_visible(False)\n",
    "ax1.set_title(\"AAPL - Preço de Fechamento\", fontsize = 20)\n",
    "ax1.set_xlim(min(X))\n",
    "ax1.set_ylabel(\"Dólares\")\n",
    "\n",
    "ax2.plot(X, Z,c=\"g\", label=\"Volume\")\n",
    "ax2.fill_between(X, 0, Z, color=\"lightgreen\")\n",
    "ax2.set_xlim(min(X))\n",
    "ax2.set_yscale('log',base=2)\n",
    "ax2.legend(fontsize=14)\n",
    "\n",
    "plt.xlabel(\"Data\")\n",
    "\n",
    "plt.tight_layout()"
   ]
  },
  {
   "cell_type": "markdown",
   "id": "2462f492",
   "metadata": {},
   "source": [
    "# 4. Definição do objetivo\n",
    "\n",
    "A partir desse gráfico vamos implementar uma Regressão Linear, ou seja, vamos criar uma linha que segue o padrão do nosso gráfico para poder prever os Preços de Fechamento futuros, dado novas Datas. \n",
    "\n",
    "*A Regressão Linear serve para criar uma reta que segue a tendência dos vetores analisados para obter uma previsão futura, seguindo essa reta.*\n",
    "\n",
    "Para criar uma linha reta, dado dois vetores, a equação é a seguinte:\n",
    "\n",
    "# <center> $f(X) = mX + b$ </center>\n",
    "\n",
    "\n",
    "- ***f(x)*** - função linear que retorna o vetor $\\bf{\\hat{y}}$, que é o vertor previsão.\n",
    "- **X** - vetor de variáveis independentes.\n",
    "- **m** - coeficiente angular da reta. - *Controla a inclinação*\n",
    "- **b** - coeficente linear da reta.   - *Controla a altura, ou seja, onde a reta cruza o eixo* ***y***.\n",
    "\n",
    "> Se vertorizarmos essa função para testar nossa hipótese:\n",
    "\n",
    "# <center> $\\it{h}_{\\theta}(X) =\\theta_{0} + \\theta_{1}x_{1} +... + \\theta_{n}x_{n}$ </center>\n",
    "\n",
    "<center> $\\textbf{=}$ </center>\n",
    "\n",
    "# <center> $\\hat{y} = \\boldsymbol{\\theta}X^T$ </center>\n",
    "\n",
    "- ${\\it{\\bf{h}}_{\\theta}(X)}$ - função hipótese\n",
    "- $\\boldsymbol{\\theta}$ - vetor de pesos\n",
    "- $\\boldsymbol{\\theta_{0}}$ - viés\n",
    "- ***x*** - cada característica do nosso vetor ***X***\n",
    "\n",
    "> Dessa forma, temos a liberdade de testar nossas hipóteses com mais de uma dimensão de características.\n",
    "\n",
    "\n",
    "<br>\n",
    "    \n",
    "\n",
    "Apos criar uma reta que melhor corresponde a relação entre o vetor X(\"Data\") e o vetor y(\"Preço de Fechamento), podemos usar a nossa equação da reta, para descobrir o \"Preço de Fechamento\" apenas aplicando a\n",
    "\"Data\" nessa equação.\n",
    "\n",
    "Para ilustar essa idéia, vamos novamente desenhar a nossa linha de Preços de Fechamento, e junto com ela, uma simples linha de reta, seguindo a tendência de preço da primeira e última data do nosso conjunto de dados."
   ]
  },
  {
   "cell_type": "markdown",
   "id": "c26f6b73",
   "metadata": {},
   "source": [
    "<br>\n",
    "Para encontrar a inclinação, usaremos a seguinte fórmula:\n",
    "\n",
    "# <center>$m = \\frac{y_{1} - y_{0}}{x_{1} - x_{0}}$\n",
    "\n",
    "<br><br>"
   ]
  },
  {
   "cell_type": "code",
   "execution_count": 11,
   "id": "c5520ed0",
   "metadata": {},
   "outputs": [
    {
     "data": {
      "text/plain": [
       "(0, 29.8557, 2517, 273.36)"
      ]
     },
     "execution_count": 11,
     "metadata": {},
     "output_type": "execute_result"
    }
   ],
   "source": [
    "#A partir de agora, como vamos fazer alguns calculos com vetores, vamos definir o vetor \"X\"\n",
    "#como a quantidade de dias passados, pois valores datetime64 nao podem ser operados\n",
    "\n",
    "X = aapl[\"Dias\"]\n",
    "\n",
    "x0 = X[0] #dia 0\n",
    "y0 =  y[0] #primeiro preco\n",
    "\n",
    "x1 = X.iloc[-1] #dias passados no ultimo dia\n",
    "y1 = y.iloc[-1] #ultimo preco\n",
    "\n",
    "x0,y0, x1, y1"
   ]
  },
  {
   "cell_type": "code",
   "execution_count": 12,
   "id": "98922aa3",
   "metadata": {},
   "outputs": [
    {
     "name": "stdout",
     "output_type": "stream",
     "text": [
      "m =  0.09674386174016686\n"
     ]
    }
   ],
   "source": [
    "# Vamos encontrar m\n",
    "\n",
    "m = (y1-y0)/(x1-x0)\n",
    "print(\"m = \",  m)"
   ]
  },
  {
   "cell_type": "markdown",
   "id": "c30dc720",
   "metadata": {},
   "source": [
    "\n",
    "<br></br>\n",
    "Agora, para achar ***b*** , usaremos a função da reta.\n",
    "\n",
    "Como ***b*** é onde a reta cruza o eixo **y**, ou seja, onde **X** equivale a 0.\n",
    "Logo:\n",
    "\n",
    "## $y_{0} = mx_{0} + b$\n",
    "## $b = y_{0} - mx_{0}$\n",
    "\n",
    "\n",
    "\n",
    "<br>"
   ]
  },
  {
   "cell_type": "code",
   "execution_count": 13,
   "id": "89ef8fc9",
   "metadata": {},
   "outputs": [
    {
     "name": "stdout",
     "output_type": "stream",
     "text": [
      "b =  29.8557\n"
     ]
    }
   ],
   "source": [
    "b = y0 - m*x0\n",
    "print(\"b = \",  b)"
   ]
  },
  {
   "cell_type": "markdown",
   "id": "18ff2f63",
   "metadata": {},
   "source": [
    "<br></br>\n",
    "No nosso caso, como começamos a nossa linha a partir do ponto 0, ou seja $x_{0} = 0$, ***b*** é igual a $y_{0}$.\n",
    "\n",
    "Com ***m*** e ***b*** em mãos, podemos criar uma função reta que segue a tendencia do primeiro e último preço.\n",
    "<br></br>"
   ]
  },
  {
   "cell_type": "code",
   "execution_count": 14,
   "id": "7c69a586",
   "metadata": {},
   "outputs": [],
   "source": [
    "funcao_linear = lambda x: m*x + b"
   ]
  },
  {
   "cell_type": "markdown",
   "id": "9f6b6762",
   "metadata": {},
   "source": [
    "</br>\n",
    "Com a função contruída, podemos utiliza-la para transformar nosso vetor \"X\" e ter uma representação de como seriam os nossos preços, caso todos eles seguissem a tendência do primeiro e último preço.\n",
    "<br></br>"
   ]
  },
  {
   "cell_type": "code",
   "execution_count": 15,
   "id": "a1e43a75",
   "metadata": {
    "scrolled": true
   },
   "outputs": [
    {
     "data": {
      "text/html": [
       "<div>\n",
       "<style scoped>\n",
       "    .dataframe tbody tr th:only-of-type {\n",
       "        vertical-align: middle;\n",
       "    }\n",
       "\n",
       "    .dataframe tbody tr th {\n",
       "        vertical-align: top;\n",
       "    }\n",
       "\n",
       "    .dataframe thead th {\n",
       "        text-align: right;\n",
       "    }\n",
       "</style>\n",
       "<table border=\"1\" class=\"dataframe\">\n",
       "  <thead>\n",
       "    <tr style=\"text-align: right;\">\n",
       "      <th></th>\n",
       "      <th>Previsto</th>\n",
       "      <th>Real</th>\n",
       "    </tr>\n",
       "  </thead>\n",
       "  <tbody>\n",
       "    <tr>\n",
       "      <th>0</th>\n",
       "      <td>29.855700</td>\n",
       "      <td>29.8557</td>\n",
       "    </tr>\n",
       "    <tr>\n",
       "      <th>1</th>\n",
       "      <td>29.952444</td>\n",
       "      <td>29.8357</td>\n",
       "    </tr>\n",
       "    <tr>\n",
       "      <th>2</th>\n",
       "      <td>30.049188</td>\n",
       "      <td>29.9043</td>\n",
       "    </tr>\n",
       "    <tr>\n",
       "      <th>3</th>\n",
       "      <td>30.145932</td>\n",
       "      <td>30.1014</td>\n",
       "    </tr>\n",
       "    <tr>\n",
       "      <th>4</th>\n",
       "      <td>30.242675</td>\n",
       "      <td>31.2786</td>\n",
       "    </tr>\n",
       "    <tr>\n",
       "      <th>...</th>\n",
       "      <td>...</td>\n",
       "      <td>...</td>\n",
       "    </tr>\n",
       "    <tr>\n",
       "      <th>2513</th>\n",
       "      <td>272.973025</td>\n",
       "      <td>298.1800</td>\n",
       "    </tr>\n",
       "    <tr>\n",
       "      <th>2514</th>\n",
       "      <td>273.069768</td>\n",
       "      <td>288.0800</td>\n",
       "    </tr>\n",
       "    <tr>\n",
       "      <th>2515</th>\n",
       "      <td>273.166512</td>\n",
       "      <td>292.6500</td>\n",
       "    </tr>\n",
       "    <tr>\n",
       "      <th>2516</th>\n",
       "      <td>273.263256</td>\n",
       "      <td>273.5200</td>\n",
       "    </tr>\n",
       "    <tr>\n",
       "      <th>2517</th>\n",
       "      <td>273.360000</td>\n",
       "      <td>273.3600</td>\n",
       "    </tr>\n",
       "  </tbody>\n",
       "</table>\n",
       "<p>2518 rows × 2 columns</p>\n",
       "</div>"
      ],
      "text/plain": [
       "        Previsto      Real\n",
       "0      29.855700   29.8557\n",
       "1      29.952444   29.8357\n",
       "2      30.049188   29.9043\n",
       "3      30.145932   30.1014\n",
       "4      30.242675   31.2786\n",
       "...          ...       ...\n",
       "2513  272.973025  298.1800\n",
       "2514  273.069768  288.0800\n",
       "2515  273.166512  292.6500\n",
       "2516  273.263256  273.5200\n",
       "2517  273.360000  273.3600\n",
       "\n",
       "[2518 rows x 2 columns]"
      ]
     },
     "execution_count": 15,
     "metadata": {},
     "output_type": "execute_result"
    }
   ],
   "source": [
    "y_2 =  funcao_linear(X)\n",
    "comparacao = pd.DataFrame({\"Previsto\": y_2,  \"Real\": y}) #Criando um dataframe com as previsoes e os valores reais\n",
    "comparacao   #Esses seriam os valores se todos os precos seguissem a nossa tendencia criada vs os reais"
   ]
  },
  {
   "cell_type": "markdown",
   "id": "decc2ff8",
   "metadata": {},
   "source": [
    "<br>\n",
    "\n",
    "Geramos uma função que recebe os dias passados e nos retorna as previsões com base no primeiro e ultimo preço. Então, se pararmos pra pensar, essa função, além de nos retornar os preços com base nos dias contidos do dataset, também pode ser usada para retornar os preços nos dias futuros, que não temos.\n",
    "\n",
    "Então, vamos usar essa função para prever os valores nos dias futuros.\n",
    "\n",
    "<br>"
   ]
  },
  {
   "cell_type": "code",
   "execution_count": 16,
   "id": "6e2c936b",
   "metadata": {},
   "outputs": [
    {
     "data": {
      "text/plain": [
       "array([2518, 2519, 2520, 2521, 2522, 2523, 2524, 2525, 2526, 2527, 2528,\n",
       "       2529, 2530, 2531, 2532, 2533, 2534, 2535, 2536, 2537, 2538, 2539,\n",
       "       2540, 2541, 2542, 2543, 2544, 2545, 2546, 2547, 2548, 2549, 2550,\n",
       "       2551, 2552, 2553, 2554, 2555, 2556, 2557, 2558, 2559, 2560, 2561,\n",
       "       2562, 2563, 2564, 2565, 2566, 2567, 2568, 2569, 2570, 2571, 2572,\n",
       "       2573, 2574, 2575, 2576, 2577, 2578, 2579, 2580, 2581, 2582, 2583,\n",
       "       2584, 2585, 2586, 2587, 2588, 2589, 2590, 2591, 2592, 2593, 2594,\n",
       "       2595, 2596, 2597, 2598, 2599, 2600, 2601, 2602, 2603, 2604, 2605,\n",
       "       2606, 2607, 2608, 2609, 2610, 2611, 2612, 2613, 2614, 2615, 2616,\n",
       "       2617, 2618, 2619, 2620, 2621, 2622, 2623, 2624, 2625, 2626, 2627,\n",
       "       2628, 2629, 2630, 2631, 2632, 2633, 2634, 2635, 2636, 2637, 2638,\n",
       "       2639, 2640, 2641, 2642, 2643, 2644, 2645, 2646, 2647, 2648, 2649,\n",
       "       2650, 2651, 2652, 2653, 2654, 2655, 2656, 2657, 2658, 2659, 2660,\n",
       "       2661, 2662, 2663, 2664, 2665, 2666, 2667, 2668, 2669, 2670, 2671,\n",
       "       2672, 2673, 2674, 2675, 2676, 2677, 2678, 2679, 2680, 2681, 2682,\n",
       "       2683, 2684, 2685, 2686, 2687, 2688, 2689, 2690, 2691, 2692, 2693,\n",
       "       2694, 2695, 2696, 2697, 2698, 2699, 2700, 2701, 2702, 2703, 2704,\n",
       "       2705, 2706, 2707, 2708, 2709, 2710, 2711, 2712, 2713, 2714, 2715,\n",
       "       2716, 2717, 2718, 2719, 2720, 2721, 2722, 2723, 2724, 2725, 2726,\n",
       "       2727, 2728, 2729, 2730, 2731, 2732, 2733, 2734, 2735, 2736, 2737,\n",
       "       2738, 2739, 2740, 2741, 2742, 2743, 2744, 2745, 2746, 2747, 2748,\n",
       "       2749, 2750, 2751, 2752, 2753, 2754, 2755, 2756, 2757, 2758, 2759,\n",
       "       2760, 2761, 2762, 2763, 2764, 2765, 2766, 2767, 2768, 2769, 2770,\n",
       "       2771, 2772, 2773, 2774, 2775, 2776, 2777, 2778, 2779, 2780, 2781,\n",
       "       2782, 2783, 2784, 2785, 2786, 2787, 2788, 2789, 2790, 2791, 2792,\n",
       "       2793, 2794, 2795, 2796, 2797, 2798, 2799, 2800, 2801, 2802, 2803,\n",
       "       2804, 2805, 2806, 2807, 2808, 2809, 2810, 2811, 2812, 2813, 2814,\n",
       "       2815, 2816, 2817, 2818, 2819, 2820, 2821, 2822, 2823, 2824, 2825,\n",
       "       2826, 2827, 2828, 2829, 2830, 2831, 2832, 2833, 2834, 2835, 2836,\n",
       "       2837, 2838, 2839, 2840, 2841, 2842, 2843, 2844, 2845, 2846, 2847,\n",
       "       2848, 2849, 2850, 2851, 2852, 2853, 2854, 2855, 2856, 2857, 2858,\n",
       "       2859, 2860, 2861, 2862, 2863, 2864, 2865, 2866, 2867, 2868, 2869,\n",
       "       2870, 2871, 2872, 2873, 2874, 2875, 2876, 2877, 2878, 2879, 2880,\n",
       "       2881, 2882])"
      ]
     },
     "execution_count": 16,
     "metadata": {},
     "output_type": "execute_result"
    }
   ],
   "source": [
    "dias_futuros = np.arange(x1+1, x1+366) # a partir do dia x1 ate 365 dias futuros\n",
    "dias_futuros"
   ]
  },
  {
   "cell_type": "code",
   "execution_count": 17,
   "id": "4b624c9c",
   "metadata": {},
   "outputs": [
    {
     "data": {
      "text/plain": [
       "array([273.45674386, 273.55348772, 273.65023159, 273.74697545,\n",
       "       273.84371931, 273.94046317, 274.03720703, 274.13395089,\n",
       "       274.23069476, 274.32743862])"
      ]
     },
     "execution_count": 17,
     "metadata": {},
     "output_type": "execute_result"
    }
   ],
   "source": [
    "y_pred = funcao_linear(dias_futuros) #nossa previsao \n",
    "y_pred[:10]"
   ]
  },
  {
   "cell_type": "code",
   "execution_count": 18,
   "id": "e573c6bc",
   "metadata": {
    "scrolled": true
   },
   "outputs": [
    {
     "data": {
      "image/png": "[encoded data removed]",
      "text/plain": [
       "<Figure size 1008x360 with 1 Axes>"
      ]
     },
     "metadata": {},
     "output_type": "display_data"
    }
   ],
   "source": [
    "fig = plt.figure(figsize=(14,5))\n",
    "ax = plt.gca()\n",
    "\n",
    "plt.title(\"AAPL - Preço de Fechamento\", fontsize = 20)\n",
    "\n",
    "plt.plot(X, y, label=\"Preço de Fechamento\")\n",
    "plt.plot(X ,y_2, \"r\", label=\"Reta $x_{0}x_{n}$\")\n",
    "plt.plot(dias_futuros, y_pred, \"purple\", ls=\"--\", label=\"Previsões\")\n",
    "\n",
    "plt.plot(x1, y_2.iloc[-1], \"bo\")\n",
    "plt.text(x1, y_2.iloc[-1], f\"${y_2[0]:.2f}\", verticalalignment=\"top\")\n",
    "\n",
    "plt.vlines(dias_futuros[-1], 0, y_pred[-1], colors= \"purple\", ls=\"--\", alpha=0.7)\n",
    "plt.plot(dias_futuros[-1], y_pred[-1], \"bo\")\n",
    "plt.text(dias_futuros[-1], y_pred[-1], f\"${y_pred[-1]:.2f}\", verticalalignment=\"bottom\")\n",
    "\n",
    "plt.fill_between(X, y, y_2, color=\"purple\", alpha=0.2)\n",
    "\n",
    "\n",
    "plt.legend()\n",
    "ax.set_xticks(X[::-350])\n",
    "ax.set_xticklabels(aapl[\"Date\"][::-350])\n",
    "\n",
    "plt.tight_layout()"
   ]
  },
  {
   "cell_type": "markdown",
   "id": "4831a1e9",
   "metadata": {},
   "source": [
    ">Contruimos o nosso primeiro algoritmo de regressão linear. Porém ele não parece ser muito convincente, pois utilizamos apenas as relação entre a primeira e a ultima amostra do nosso dataset. Podemos notar que há uma grande distancia na maioria dos dias entre a os preços reais e a nossa simples reta.<br></br>\n",
    "Ou talvez ele seja perfeito, talvez a partir do último ponto, a linha dos preços siga exatamente a direção da linha que contruimos. Mesmo que não pareça provável, não há como saber com certeza, pois não sabemos o que acontece apos o último dia contido em nosso dataset. Então como eu posso avaliar uma previsão sem saber o resultado?<br></br>\n",
    "Nesse caso, devemos usar um método de avalição \"Treino e Teste\". Esse método consiste em dividir meus dados em conjuntos de \"Treino\" e outro conjunto de \"Teste\". Utilizamos o conhunto de treino para formar o nosso modelo, ou seja, treina-lo, e em seguida, uso os dados de teste, cujo resultado já sabemos, para poder avaliar nosso modelo, sem precisar esperar dias para receber novas informações de preço e avalia-lo.<br></br>\n",
    "Vamos então dividir nosso modelo e avaliá-lo."
   ]
  },
  {
   "cell_type": "code",
   "execution_count": 87,
   "id": "265a9b5a",
   "metadata": {},
   "outputs": [],
   "source": [
    "#Vamos dividir o conjunto de treino ate a linha 2049, o resto se torna conjunto de teste\n",
    "X_train, X_test, y_train, y_test = (X[:2250].reset_index(drop=True),\n",
    "                                    X[2250:].reset_index(drop=True),\n",
    "                                    y[:2250].reset_index(drop=True),\n",
    "                                    y[2250:].reset_index(drop=True))"
   ]
  },
  {
   "cell_type": "code",
   "execution_count": 88,
   "id": "8d55b163",
   "metadata": {},
   "outputs": [
    {
     "name": "stdout",
     "output_type": "stream",
     "text": [
      "m = 0.06417265451311693\n",
      "b = 29.8557\n"
     ]
    }
   ],
   "source": [
    "#Agora vamos criar uma nova reta, porem com o primeiro e ultimo valores do conjunto de treino\n",
    "#Primeiro precisamos de uma funcao para descobrir m, e b\n",
    "\n",
    "def theta(X, y):\n",
    "    x0, x1 = X[0], X.iloc[-1]\n",
    "    y0, y1 = y[0], y.iloc[-1]\n",
    "    \n",
    "    m = (y1-y0)/(x1-x0)\n",
    "    b = y0 - m*x0\n",
    "    \n",
    "    return m, b\n",
    "\n",
    "m, b = theta(X_train, y_train)\n",
    "print(f\"m = {m}\\nb = {b}\") "
   ]
  },
  {
   "cell_type": "code",
   "execution_count": 89,
   "id": "d3a4f0ae",
   "metadata": {
    "scrolled": true
   },
   "outputs": [
    {
     "data": {
      "text/html": [
       "<div>\n",
       "<style scoped>\n",
       "    .dataframe tbody tr th:only-of-type {\n",
       "        vertical-align: middle;\n",
       "    }\n",
       "\n",
       "    .dataframe tbody tr th {\n",
       "        vertical-align: top;\n",
       "    }\n",
       "\n",
       "    .dataframe thead th {\n",
       "        text-align: right;\n",
       "    }\n",
       "</style>\n",
       "<table border=\"1\" class=\"dataframe\">\n",
       "  <thead>\n",
       "    <tr style=\"text-align: right;\">\n",
       "      <th></th>\n",
       "      <th>Previsto</th>\n",
       "      <th>Real</th>\n",
       "      <th>Data</th>\n",
       "    </tr>\n",
       "  </thead>\n",
       "  <tbody>\n",
       "    <tr>\n",
       "      <th>0</th>\n",
       "      <td>174.244173</td>\n",
       "      <td>174.24</td>\n",
       "      <td>2019-02-06</td>\n",
       "    </tr>\n",
       "    <tr>\n",
       "      <th>1</th>\n",
       "      <td>174.308345</td>\n",
       "      <td>170.94</td>\n",
       "      <td>2019-02-07</td>\n",
       "    </tr>\n",
       "    <tr>\n",
       "      <th>2</th>\n",
       "      <td>174.372518</td>\n",
       "      <td>170.41</td>\n",
       "      <td>2019-02-08</td>\n",
       "    </tr>\n",
       "    <tr>\n",
       "      <th>3</th>\n",
       "      <td>174.436691</td>\n",
       "      <td>169.43</td>\n",
       "      <td>2019-02-11</td>\n",
       "    </tr>\n",
       "    <tr>\n",
       "      <th>4</th>\n",
       "      <td>174.500863</td>\n",
       "      <td>170.89</td>\n",
       "      <td>2019-02-12</td>\n",
       "    </tr>\n",
       "    <tr>\n",
       "      <th>...</th>\n",
       "      <td>...</td>\n",
       "      <td>...</td>\n",
       "      <td>...</td>\n",
       "    </tr>\n",
       "    <tr>\n",
       "      <th>263</th>\n",
       "      <td>191.121581</td>\n",
       "      <td>298.18</td>\n",
       "      <td>2020-02-24</td>\n",
       "    </tr>\n",
       "    <tr>\n",
       "      <th>264</th>\n",
       "      <td>191.185753</td>\n",
       "      <td>288.08</td>\n",
       "      <td>2020-02-25</td>\n",
       "    </tr>\n",
       "    <tr>\n",
       "      <th>265</th>\n",
       "      <td>191.249926</td>\n",
       "      <td>292.65</td>\n",
       "      <td>2020-02-26</td>\n",
       "    </tr>\n",
       "    <tr>\n",
       "      <th>266</th>\n",
       "      <td>191.314099</td>\n",
       "      <td>273.52</td>\n",
       "      <td>2020-02-27</td>\n",
       "    </tr>\n",
       "    <tr>\n",
       "      <th>267</th>\n",
       "      <td>191.378271</td>\n",
       "      <td>273.36</td>\n",
       "      <td>2020-02-28</td>\n",
       "    </tr>\n",
       "  </tbody>\n",
       "</table>\n",
       "<p>268 rows × 3 columns</p>\n",
       "</div>"
      ],
      "text/plain": [
       "       Previsto    Real        Data\n",
       "0    174.244173  174.24  2019-02-06\n",
       "1    174.308345  170.94  2019-02-07\n",
       "2    174.372518  170.41  2019-02-08\n",
       "3    174.436691  169.43  2019-02-11\n",
       "4    174.500863  170.89  2019-02-12\n",
       "..          ...     ...         ...\n",
       "263  191.121581  298.18  2020-02-24\n",
       "264  191.185753  288.08  2020-02-25\n",
       "265  191.249926  292.65  2020-02-26\n",
       "266  191.314099  273.52  2020-02-27\n",
       "267  191.378271  273.36  2020-02-28\n",
       "\n",
       "[268 rows x 3 columns]"
      ]
     },
     "execution_count": 89,
     "metadata": {},
     "output_type": "execute_result"
    }
   ],
   "source": [
    "#Usando a funcao linear para obter as previsoes do teste\n",
    "y_pred = funcao_linear(X_test)\n",
    "\n",
    "#Comparando as previsoes do teste com os resultados reais(y_test)\n",
    "comparacao = pd.DataFrame({\"Previsto\": y_pred,  \"Real\": y_test})\n",
    "comparacao[\"Data\"] = aapl[\"Date\"].iloc[2250:].reset_index(drop=True)\n",
    "comparacao"
   ]
  },
  {
   "cell_type": "code",
   "execution_count": 90,
   "id": "119cf01e",
   "metadata": {},
   "outputs": [
    {
     "data": {
      "image/png": "[encoded data removed]",
      "text/plain": [
       "<Figure size 576x396 with 1 Axes>"
      ]
     },
     "metadata": {},
     "output_type": "display_data"
    }
   ],
   "source": [
    "comparacao.plot()\n",
    "plt.title(\"Previsão - Primeiro Modelo\", fontdict={\"fontsize\":20})\n",
    "plt.tight_layout()"
   ]
  },
  {
   "cell_type": "markdown",
   "id": "464d3315",
   "metadata": {},
   "source": [
    "# 5. Avaliando Modelos de Regressão\n",
    "\n",
    "Primeiramente, antes de desenvolvermos outros algorítmos, vamos definir nossas métricas, conhecidas como funções de custo, para podermos analizar matemáticamente nossos resultados e apoior nosso julgamento. Avaliar nosso primeiro modelo nos da uma boa métrica de comparação.\n",
    "\n",
    "Algumas métricas bastante utilizadas para a avaliação de modelos de regressão são:\n",
    "\n",
    "- **R²**\n",
    "\n",
    "- **MAE**\n",
    "\n",
    "- **MAPE**\n",
    "\n",
    "- **MSE**\n",
    "\n",
    "- **RMSE**\n",
    "\n",
    "O objetivo da regressão linear é achar uma linha que tenha a melhor pontuação possível. Vamos entender cada uma."
   ]
  },
  {
   "cell_type": "markdown",
   "id": "de9fc390",
   "metadata": {},
   "source": [
    "\n",
    "#  5.1 - R²\n",
    "\n",
    "A métrica ***R²*** representa o percentual da variância dos dados previstos pelo modelo. Os valores para ***R²***, podem variar entre números negativos até 1, onde 1 é um modelo perfeito.\n",
    "# <center> $R² (y, \\hat{y}) = 1  - \\frac{\\sum_{i=1}^n (y_{i} - \\hat{y}_{i})²}{\\sum_{i=1}^n (y_{i} - \\bar{y})²}$\n",
    "\n",
    "- $\\mathbf{y}$ - valores verdadeiros\n",
    "- $\\hat{\\mathbf{y}}$ - valores previstos\n",
    "- $\\bar{\\mathbf{y}}$ - média dos valores verdadeiros"
   ]
  },
  {
   "cell_type": "code",
   "execution_count": 91,
   "id": "6e6bcfce",
   "metadata": {},
   "outputs": [
    {
     "name": "stdout",
     "output_type": "stream",
     "text": [
      "R² do Primeiro Modelo: -0.80\n"
     ]
    }
   ],
   "source": [
    "def R2(y, y_pred):\n",
    "    return 1 - (np.sum((y - y_pred)**2)/ np.sum((y - np.mean(y))**2))\n",
    "\n",
    "r2 = R2(y_test, y_pred)\n",
    "print(f\"R² do Primeiro Modelo: {r2:.2f}\") #obtemos um score ruim"
   ]
  },
  {
   "cell_type": "markdown",
   "id": "053683d0",
   "metadata": {},
   "source": [
    "#  5.2 - MAE\n",
    "\n",
    "A métrica **MAE** *(Mean Absolute Error)*, em português *Erro Médio Absoluto ou EMA*, como o nome sugere, nos informa a diferença média entre os valores verdadeiros e os valores previstos.\n",
    "# <center> $MAE(y, \\hat{y}) = \\frac{1}{n}\\sum_{i=1}^n|y_{i} - \\hat{y}_{i}|$\n",
    "\n",
    "- $\\mathbf{y}$ - valores verdadeiros\n",
    "- $\\hat{\\mathbf{y}}$ - valores previstos"
   ]
  },
  {
   "cell_type": "code",
   "execution_count": 92,
   "id": "9d1ee577",
   "metadata": {},
   "outputs": [
    {
     "name": "stdout",
     "output_type": "stream",
     "text": [
      "MAE do Primeiro Modelo: $46.02\n"
     ]
    }
   ],
   "source": [
    "def MAE(y, y_pred):\n",
    "    n = y.shape[0]\n",
    "    return 1/n * np.sum(abs(y-y_pred))\n",
    "\n",
    "mae = MAE(y_test, y_pred)\n",
    "print(f\"MAE do Primeiro Modelo: ${mae:.2f}\") #media de erros e de 46 dolares"
   ]
  },
  {
   "cell_type": "markdown",
   "id": "05b30d63",
   "metadata": {},
   "source": [
    "#  5.3 - MAPE\n",
    "\n",
    "A métrica **MAPE** *(Mean Absolute Percentual Error)*, em português *Erro Médio Absoluto Percentual ou EMAP*,é parecido com a métrica **MAE** porém com uma divisão por $y_{i}$, isso nos informa a diferença percentual entre os valores verdadeiros e os valores previstos.\n",
    "\n",
    "# <center> $MAPE(y, \\hat{y}) = \\frac{1}{n}\\sum_{i=1}^n\\frac{|y_{i} - \\hat{y}_{i}|}{max(\\epsilon,|y_{i}|)}$\n",
    "\n",
    "- $\\mathbf{y}$ - valores verdadeiros\n",
    "- $\\hat{\\mathbf{y}}$ - valores previstos\n",
    "- $\\epsilon$ - uma constante muito pequena, que evita uma divisão nula caso $y_{i}$ seja igual a 0."
   ]
  },
  {
   "cell_type": "code",
   "execution_count": 93,
   "id": "ad5536c4",
   "metadata": {},
   "outputs": [
    {
     "name": "stdout",
     "output_type": "stream",
     "text": [
      "MAPE do Primeiro Modelo: 18.0% de diferença.\n"
     ]
    }
   ],
   "source": [
    "def MAPE(y, y_pred):\n",
    "    n = y.shape[0]\n",
    "    eps = np.finfo(np.float64).eps\n",
    "    y_eps = y.replace(0, eps)\n",
    "    return 1/n * np.sum(abs(y-y_pred)/y_eps)\n",
    "\n",
    "mape = MAPE(y_test, y_pred)\n",
    "print(f\"MAPE do Primeiro Modelo: {round(mape, 2)*100}% de diferença.\") #media de erros e de 35 dolares"
   ]
  },
  {
   "cell_type": "markdown",
   "id": "be7219c5",
   "metadata": {},
   "source": [
    "#  5.4 - MSE\n",
    "\n",
    "A métrica **MSE** *(Mean Squared Error)*, em português *Erro Médio Quadrático*, também se parece à métrica **MAE**, porém, em vez de usar a forma absoluta dos vetores **$Y$** e **$\\hat{Y}$** , usa a sua diferença quadrática. Isso aumenta a discrepância para valores muito distantes. Logo, quanto maior o **MSE**, pior o nosso modelo.\n",
    "# <center> $MSE(y, \\hat{y}) = \\frac{1}{n}\\sum_{i=1}^n(y_{i} - \\hat{y}_{i})²$\n",
    "\n",
    "- $\\mathbf{y}$ - valores verdadeiros\n",
    "- $\\hat{\\mathbf{y}}$ - valores previstos"
   ]
  },
  {
   "cell_type": "code",
   "execution_count": 94,
   "id": "7f5d0db9",
   "metadata": {},
   "outputs": [
    {
     "name": "stdout",
     "output_type": "stream",
     "text": [
      "MSE do Primeiro Modelo: $3764.39\n"
     ]
    }
   ],
   "source": [
    "def MSE(y, y_pred):\n",
    "    n = y.shape[0]\n",
    "    return 1/n * np.sum((y-y_pred)**2)\n",
    "\n",
    "mse = MSE(y_test, y_pred)\n",
    "print(f\"MSE do Primeiro Modelo: ${mse:.2f}\") #Um pessimo valor de MSE, lembrando que queromos isso perto de 0"
   ]
  },
  {
   "cell_type": "markdown",
   "id": "58c6d6cb",
   "metadata": {},
   "source": [
    "#  5.5 - RMSE\n",
    "\n",
    "A métrica **RMSE** *(Root Mean Squared Error)*, em português *Raiz do Erro Médio Quadrático*, é simplismente a raiz quadrada da métrica **MSE**. Essa métrica pode ser mais interpretável que o modelo **MSE**. Além disso, ao contrário da métrica **MAE**, essa dá mais ênfase em outliers(pontos muito distantes da que a média).\n",
    "# <center> $RMSE(y, \\hat{y}) =\\sqrt{\\frac{1}{n}\\sum_{i=1}^n(y_{i} - \\hat{y}_{i})²}$\n",
    "\n",
    "- $\\mathbf{y}$ - valores verdadeiros\n",
    "- $\\hat{\\mathbf{y}}$ - valores previstos"
   ]
  },
  {
   "cell_type": "code",
   "execution_count": 95,
   "id": "f272d016",
   "metadata": {
    "scrolled": true
   },
   "outputs": [
    {
     "name": "stdout",
     "output_type": "stream",
     "text": [
      "RMSE do Primeiro Modelo: $61.35\n"
     ]
    }
   ],
   "source": [
    "def RMSE(y, y_pred):\n",
    "    n = y.shape[0]\n",
    "    MSE =  1/n * np.sum((y-y_pred)**2)\n",
    "    return np.sqrt(MSE)\n",
    "\n",
    "rmse = RMSE(y_test, y_pred)\n",
    "print(f\"RMSE do Primeiro Modelo: ${rmse:.2f}\") #Um pessimo valor de MSE, lembrando que queromos isso perto de 0"
   ]
  },
  {
   "cell_type": "markdown",
   "id": "4510fed1",
   "metadata": {},
   "source": [
    "> Agora que definimos nosso método de avaliação e testamos nosso modelo, vamos criar um dataframe com as métricas do nosso modelo, para compararmos futuramente."
   ]
  },
  {
   "cell_type": "code",
   "execution_count": 96,
   "id": "45db3dbd",
   "metadata": {
    "scrolled": true
   },
   "outputs": [
    {
     "data": {
      "text/html": [
       "<div>\n",
       "<style scoped>\n",
       "    .dataframe tbody tr th:only-of-type {\n",
       "        vertical-align: middle;\n",
       "    }\n",
       "\n",
       "    .dataframe tbody tr th {\n",
       "        vertical-align: top;\n",
       "    }\n",
       "\n",
       "    .dataframe thead th {\n",
       "        text-align: right;\n",
       "    }\n",
       "</style>\n",
       "<table border=\"1\" class=\"dataframe\">\n",
       "  <thead>\n",
       "    <tr style=\"text-align: right;\">\n",
       "      <th></th>\n",
       "      <th>Modelo</th>\n",
       "      <th>R²</th>\n",
       "      <th>MAE</th>\n",
       "      <th>MAPE</th>\n",
       "      <th>MSE</th>\n",
       "      <th>RMSE</th>\n",
       "    </tr>\n",
       "  </thead>\n",
       "  <tbody>\n",
       "    <tr>\n",
       "      <th>0</th>\n",
       "      <td>Modelo-01</td>\n",
       "      <td>-0.8</td>\n",
       "      <td>46.02</td>\n",
       "      <td>0.18</td>\n",
       "      <td>3764.39</td>\n",
       "      <td>61.35</td>\n",
       "    </tr>\n",
       "  </tbody>\n",
       "</table>\n",
       "</div>"
      ],
      "text/plain": [
       "      Modelo   R²    MAE  MAPE      MSE   RMSE\n",
       "0  Modelo-01 -0.8  46.02  0.18  3764.39  61.35"
      ]
     },
     "execution_count": 96,
     "metadata": {},
     "output_type": "execute_result"
    }
   ],
   "source": [
    "modelos = pd.DataFrame([[\"Modelo-01\", round(r2, 2),round(mae, 2),round(mape, 2),round(mse, 2),round(rmse, 2)]],\n",
    "                       columns=[\"Modelo\", \"R²\", \"MAE\", \"MAPE\", \"MSE\", \"RMSE\"])\n",
    "modelos"
   ]
  },
  {
   "cell_type": "markdown",
   "id": "989753c1",
   "metadata": {},
   "source": [
    ">Como podemos observar pelas pontuações do nosso modelo, ele não é muito eficiente. Nesse tipo de caso, com um grande número de dados, uma relação entre apenas 2 não oferece muito apoio além de uma noção visual. Então, o que faremos?</br>\n",
    "<br>Para melhor adptar uma reta em uma linha não contínua, precisamos analizar a relação de todos os pontos dos nosso conjunto de dados e encontrar uma relação de pesos que minimize minhas funções de custo. Existem várias formas de fazer isso, que veremos em breve.</br>"
   ]
  },
  {
   "cell_type": "markdown",
   "id": "ca9ab225",
   "metadata": {},
   "source": [
    "# 6 - Equação Normal\n",
    "\n",
    "A **Equação Normal** nos  retorna, de forma fechada e não iterativa, um vetor $\\boldsymbol\\theta$ que minimiza a função de custo **MSE**.\n",
    "\n",
    "# <center> **$\\widehat{\\theta}(X,Y) = (X^TX)^{⁻1}X^TY$**\n",
    "\n",
    "- $\\boldsymbol{\\widehat{\\theta}}$ - vetor de pesos que minimiza a função de custo\n",
    "- $\\bf\\it{X}$ - vetor de características\n",
    "- $\\bf\\it{Y}$ - vetor de rótulos"
   ]
  },
  {
   "cell_type": "markdown",
   "id": "65416dad",
   "metadata": {},
   "source": [
    ">Como vamos usar as funcoes vetorizadas para calcular nossa hipotese, precisamos transformar nossos vetores em numpy arrays, para calcular suas propriedades, e também adicionar uma colunar de **\"1\"**, pois a primeira coluna corresponde à coluna $\\boldsymbol{\\theta_{0}}$, que é o nosso viés, também chamado de interceptação. Lembrando que o viés é uma constante, então multiplicar por 1 não altera seu valor."
   ]
  },
  {
   "cell_type": "code",
   "execution_count": 97,
   "id": "13354e48",
   "metadata": {},
   "outputs": [
    {
     "data": {
      "text/plain": [
       "array([[1.000e+00, 0.000e+00],\n",
       "       [1.000e+00, 1.000e+00],\n",
       "       [1.000e+00, 2.000e+00],\n",
       "       ...,\n",
       "       [1.000e+00, 2.515e+03],\n",
       "       [1.000e+00, 2.516e+03],\n",
       "       [1.000e+00, 2.517e+03]])"
      ]
     },
     "execution_count": 97,
     "metadata": {},
     "output_type": "execute_result"
    }
   ],
   "source": [
    "#Vamos chamar nosso vetor com a coluna de 1s de X1\n",
    "X1 = np.c_[np.ones((X.shape)), X.to_numpy()]\n",
    "X1"
   ]
  },
  {
   "cell_type": "code",
   "execution_count": 98,
   "id": "9282aec9",
   "metadata": {},
   "outputs": [],
   "source": [
    "#Vamos dividir novamente o nosso novo X em treino e teste\n",
    "X_train, X_test = X1[:2250], X1[2250:]"
   ]
  },
  {
   "cell_type": "code",
   "execution_count": 99,
   "id": "56395db1",
   "metadata": {},
   "outputs": [
    {
     "data": {
      "text/plain": [
       "array([26.91542928,  0.06609733])"
      ]
     },
     "execution_count": 99,
     "metadata": {},
     "output_type": "execute_result"
    }
   ],
   "source": [
    "def equacao_normal(X, y):\n",
    "    return np.linalg.inv(X.T.dot(X)).dot(X.T).dot(y)\n",
    "\n",
    "theta_en = equacao_normal(X_train, y_train) #vetor theta, ou pesos, da equacao normal\n",
    "\n",
    "#vamos adicionar \"_en\" ao final das nossas variaveis para saber de qual formula ela corresponde\n",
    "#EN - Equação Normal\n",
    "theta_en"
   ]
  },
  {
   "cell_type": "code",
   "execution_count": 100,
   "id": "18bc7514",
   "metadata": {},
   "outputs": [
    {
     "data": {
      "text/plain": [
       "array([26.91542928,  0.06609733])"
      ]
     },
     "execution_count": 100,
     "metadata": {},
     "output_type": "execute_result"
    }
   ],
   "source": [
    "#Uma forma alternativa, é usar a função \"lstsq\" do modulo linalg da numpy, que retorna o mesmo resultado\n",
    "np.linalg.lstsq(X_train, y_train, rcond=None)[0]"
   ]
  },
  {
   "cell_type": "code",
   "execution_count": 101,
   "id": "4d004803",
   "metadata": {},
   "outputs": [
    {
     "data": {
      "text/plain": [
       "(array([0.        , 0.06609733]), 26.91542927603531)"
      ]
     },
     "execution_count": 101,
     "metadata": {},
     "output_type": "execute_result"
    }
   ],
   "source": [
    "# sklearn LinearRegression class\n",
    "from sklearn.linear_model import LinearRegression\n",
    "linreg_sk = LinearRegression()\n",
    "linreg_sk.fit(X_train, y_train)\n",
    "linreg_sk.coef_, linreg_sk.intercept_"
   ]
  },
  {
   "cell_type": "markdown",
   "id": "bd3a20f1",
   "metadata": {},
   "source": [
    "> Vamos testar esses pesos usando elas na forma vetorizada da função linear. \n",
    "\n",
    "Relembrando:\n",
    "\n",
    "# <center> $\\hat{y} = \\boldsymbol{\\theta}^TX$ </center>\n",
    "\n",
    "\n"
   ]
  },
  {
   "cell_type": "code",
   "execution_count": 102,
   "id": "4d2e5672",
   "metadata": {},
   "outputs": [],
   "source": [
    "def predict(X, theta):\n",
    "    \"\"\"Funcao Linear Vetorizada, vamos chamar de predict,\n",
    "    pois vamos seguir a norma da biblioteca Scikit Learn\n",
    "    \"\"\"\n",
    "    return np.dot(theta, X.T)"
   ]
  },
  {
   "cell_type": "code",
   "execution_count": 103,
   "id": "93502bb2",
   "metadata": {},
   "outputs": [],
   "source": [
    "#Vamos prever os valores com nossos coeficientes gerados\n",
    "y_pred_en = predict(X_test, theta_en)"
   ]
  },
  {
   "cell_type": "code",
   "execution_count": 104,
   "id": "c28adc6e",
   "metadata": {},
   "outputs": [],
   "source": [
    "def pontuacao_df(y_test, y_pred, nome):\n",
    "    r2 = R2(y_test, y_pred)\n",
    "    mae = MAE(y_test, y_pred)\n",
    "    mape = MAPE(y_test, y_pred)\n",
    "    mse = MSE(y_test, y_pred)\n",
    "    rmse = RMSE(y_test, y_pred)\n",
    "    return pd.DataFrame([[nome , round(r2, 2),round(mae, 2),round(mape, 2),round(mse, 2),round(rmse, 2)]],\n",
    "                       columns=[\"Modelo\", \"R²\", \"MAE\", \"MAPE\", \"MSE\", \"RMSE\"])\n",
    "\n",
    "pontuacao_en = pontuacao_df(y_test, y_pred_en, \"Modelo-EN\")"
   ]
  },
  {
   "cell_type": "code",
   "execution_count": 105,
   "id": "d7dc8ca6",
   "metadata": {
    "scrolled": false
   },
   "outputs": [
    {
     "data": {
      "text/html": [
       "<div>\n",
       "<style scoped>\n",
       "    .dataframe tbody tr th:only-of-type {\n",
       "        vertical-align: middle;\n",
       "    }\n",
       "\n",
       "    .dataframe tbody tr th {\n",
       "        vertical-align: top;\n",
       "    }\n",
       "\n",
       "    .dataframe thead th {\n",
       "        text-align: right;\n",
       "    }\n",
       "</style>\n",
       "<table border=\"1\" class=\"dataframe\">\n",
       "  <thead>\n",
       "    <tr style=\"text-align: right;\">\n",
       "      <th></th>\n",
       "      <th>Modelo</th>\n",
       "      <th>R²</th>\n",
       "      <th>MAE</th>\n",
       "      <th>MAPE</th>\n",
       "      <th>MSE</th>\n",
       "      <th>RMSE</th>\n",
       "    </tr>\n",
       "  </thead>\n",
       "  <tbody>\n",
       "    <tr>\n",
       "      <th>0</th>\n",
       "      <td>Modelo-01</td>\n",
       "      <td>-0.80</td>\n",
       "      <td>46.02</td>\n",
       "      <td>0.18</td>\n",
       "      <td>3764.39</td>\n",
       "      <td>61.35</td>\n",
       "    </tr>\n",
       "    <tr>\n",
       "      <th>0</th>\n",
       "      <td>Modelo-EN</td>\n",
       "      <td>-0.73</td>\n",
       "      <td>44.69</td>\n",
       "      <td>0.17</td>\n",
       "      <td>3606.03</td>\n",
       "      <td>60.05</td>\n",
       "    </tr>\n",
       "  </tbody>\n",
       "</table>\n",
       "</div>"
      ],
      "text/plain": [
       "      Modelo    R²    MAE  MAPE      MSE   RMSE\n",
       "0  Modelo-01 -0.80  46.02  0.18  3764.39  61.35\n",
       "0  Modelo-EN -0.73  44.69  0.17  3606.03  60.05"
      ]
     },
     "execution_count": 105,
     "metadata": {},
     "output_type": "execute_result"
    }
   ],
   "source": [
    "modelos = modelos.append(pontuacao_en)\n",
    "modelos"
   ]
  },
  {
   "cell_type": "markdown",
   "id": "df4af92f",
   "metadata": {},
   "source": [
    "> Vamos comparar nossas previsções em um gráfico."
   ]
  },
  {
   "cell_type": "code",
   "execution_count": 111,
   "id": "9e14ca5a",
   "metadata": {},
   "outputs": [],
   "source": [
    "y_all = funcao_linear(X)\n",
    "y_all_en = predict(X1, theta_en)"
   ]
  },
  {
   "cell_type": "code",
   "execution_count": 118,
   "id": "b20c81de",
   "metadata": {},
   "outputs": [
    {
     "data": {
      "image/png": "[encoded data removed]",
      "text/plain": [
       "<Figure size 1080x432 with 1 Axes>"
      ]
     },
     "metadata": {},
     "output_type": "display_data"
    }
   ],
   "source": [
    "plt.figure(figsize=(15,6))\n",
    "plt.title(\"Comparação entre os Preços Reais e nossas Previsões\", fontdict = {\"fontsize\":20})\n",
    "plt.plot(X_train[:,1], y_train, label=\"Y - Treino\")\n",
    "plt.plot(X_test[:,1], y_test, label=\"Y - Teste\")\n",
    "plt.plot(X, y_all, \"y\", label=\"Reta Modelo-01\")\n",
    "plt.plot(X, y_all_en, label= \"Reta Equação Normal\")\n",
    "plt.legend()\n",
    "plt.tight_layout()"
   ]
  },
  {
   "cell_type": "markdown",
   "id": "9f61f5d6",
   "metadata": {},
   "source": [
    "# 7 - Concusão\n",
    "\n",
    "Por mais que nosso modelo que usa a **Equação Linear** tenha nos retornado a reta com o menor erro médio para o conjunto de treino seja melhor que a nossa reta que usamos apenas o primeiro e últimos valores de *y* como base. Ainda não obtivemos um modelo bom o suficiente para conseguir prever com precisão os preços futuros. \n",
    "\n",
    "Esse capítulo serviu para aprendermos conceitos de Regressão e Regressão Linear, e mesmo sem termos construído um modelo robusto o suficiente, o nosso objetivo de entender as questões que foram abertas, foram concluídos.\n",
    "\n",
    "Entendemos que um modelo símples como uma Regressão Linear de 1 grau, não é robusto o suficiente para prever os padrões de algo complexo e com alta variância como o preço de ações. Porém, esse é apenas o primeiro passo da nossa jornada, e ao longo desse livro, vamos conhecer modelos muito mais capazes de lidar com diversos tipos de situaçoes e dados, até mesmo ações.\n",
    "\n",
    "Logo, não se desanime, pois no próximo capítulo vamos aprender a usar uma forma mais robusta de regressão linear, capaz de se adequar a dados com uma variância maior."
   ]
  }
 ],
 "metadata": {
  "kernelspec": {
   "display_name": "Python [conda env:machine-learning] *",
   "language": "python",
   "name": "conda-env-machine-learning-py"
  },
  "language_info": {
   "codemirror_mode": {
    "name": "ipython",
    "version": 3
   },
   "file_extension": ".py",
   "mimetype": "text/x-python",
   "name": "python",
   "nbconvert_exporter": "python",
   "pygments_lexer": "ipython3",
   "version": "3.7.7"
  }
 },
 "nbformat": 4,
 "nbformat_minor": 5
}
