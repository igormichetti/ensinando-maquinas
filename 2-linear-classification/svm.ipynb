{
 "cells": [
  {
   "cell_type": "code",
   "execution_count": 640,
   "id": "02d0a5af",
   "metadata": {
    "scrolled": true
   },
   "outputs": [],
   "source": [
    "# Python ≥3.5 is required\n",
    "import sys\n",
    "assert sys.version_info >= (3, 5)\n",
    "\n",
    "# Scikit-Learn ≥0.20 is required\n",
    "import sklearn\n",
    "assert sklearn.__version__ >= \"0.20\"\n",
    "\n",
    "# Common imports\n",
    "import numpy as np\n",
    "import scipy as sp\n",
    "import os\n",
    "\n",
    "# to make this notebook's output stable across runs\n",
    "np.random.seed(42)\n",
    "\n",
    "# To plot pretty figures\n",
    "%matplotlib inline\n",
    "import matplotlib as mpl\n",
    "import matplotlib.pyplot as plt\n",
    "import seaborn as sns\n",
    "\n",
    "plt.style.use(\"seaborn-dark\")\n",
    "sns.set_palette(\"bright\")\n",
    "b, o, g, r, p, brown, pink, grey, y, lb = np.array(sns.color_palette())\n",
    "\n",
    "mpl.rc('axes', labelsize=14, titlesize=16)\n",
    "mpl.rc('xtick', labelsize=12)\n",
    "mpl.rc('ytick', labelsize=12)"
   ]
  },
  {
   "cell_type": "code",
   "execution_count": 641,
   "id": "68d083bb",
   "metadata": {
    "scrolled": true
   },
   "outputs": [
    {
     "data": {
      "text/html": [
       "<div>\n",
       "<style scoped>\n",
       "    .dataframe tbody tr th:only-of-type {\n",
       "        vertical-align: middle;\n",
       "    }\n",
       "\n",
       "    .dataframe tbody tr th {\n",
       "        vertical-align: top;\n",
       "    }\n",
       "\n",
       "    .dataframe thead th {\n",
       "        text-align: right;\n",
       "    }\n",
       "</style>\n",
       "<table border=\"1\" class=\"dataframe\">\n",
       "  <thead>\n",
       "    <tr style=\"text-align: right;\">\n",
       "      <th></th>\n",
       "      <th>Id</th>\n",
       "      <th>MSSubClass</th>\n",
       "      <th>MSZoning</th>\n",
       "      <th>LotFrontage</th>\n",
       "      <th>LotArea</th>\n",
       "      <th>Street</th>\n",
       "      <th>Alley</th>\n",
       "      <th>LotShape</th>\n",
       "      <th>LandContour</th>\n",
       "      <th>Utilities</th>\n",
       "      <th>...</th>\n",
       "      <th>PoolArea</th>\n",
       "      <th>PoolQC</th>\n",
       "      <th>Fence</th>\n",
       "      <th>MiscFeature</th>\n",
       "      <th>MiscVal</th>\n",
       "      <th>MoSold</th>\n",
       "      <th>YrSold</th>\n",
       "      <th>SaleType</th>\n",
       "      <th>SaleCondition</th>\n",
       "      <th>SalePrice</th>\n",
       "    </tr>\n",
       "  </thead>\n",
       "  <tbody>\n",
       "    <tr>\n",
       "      <th>0</th>\n",
       "      <td>1</td>\n",
       "      <td>60</td>\n",
       "      <td>RL</td>\n",
       "      <td>65.0</td>\n",
       "      <td>8450</td>\n",
       "      <td>Pave</td>\n",
       "      <td>NaN</td>\n",
       "      <td>Reg</td>\n",
       "      <td>Lvl</td>\n",
       "      <td>AllPub</td>\n",
       "      <td>...</td>\n",
       "      <td>0</td>\n",
       "      <td>NaN</td>\n",
       "      <td>NaN</td>\n",
       "      <td>NaN</td>\n",
       "      <td>0</td>\n",
       "      <td>2</td>\n",
       "      <td>2008</td>\n",
       "      <td>WD</td>\n",
       "      <td>Normal</td>\n",
       "      <td>208500</td>\n",
       "    </tr>\n",
       "    <tr>\n",
       "      <th>1</th>\n",
       "      <td>2</td>\n",
       "      <td>20</td>\n",
       "      <td>RL</td>\n",
       "      <td>80.0</td>\n",
       "      <td>9600</td>\n",
       "      <td>Pave</td>\n",
       "      <td>NaN</td>\n",
       "      <td>Reg</td>\n",
       "      <td>Lvl</td>\n",
       "      <td>AllPub</td>\n",
       "      <td>...</td>\n",
       "      <td>0</td>\n",
       "      <td>NaN</td>\n",
       "      <td>NaN</td>\n",
       "      <td>NaN</td>\n",
       "      <td>0</td>\n",
       "      <td>5</td>\n",
       "      <td>2007</td>\n",
       "      <td>WD</td>\n",
       "      <td>Normal</td>\n",
       "      <td>181500</td>\n",
       "    </tr>\n",
       "    <tr>\n",
       "      <th>2</th>\n",
       "      <td>3</td>\n",
       "      <td>60</td>\n",
       "      <td>RL</td>\n",
       "      <td>68.0</td>\n",
       "      <td>11250</td>\n",
       "      <td>Pave</td>\n",
       "      <td>NaN</td>\n",
       "      <td>IR1</td>\n",
       "      <td>Lvl</td>\n",
       "      <td>AllPub</td>\n",
       "      <td>...</td>\n",
       "      <td>0</td>\n",
       "      <td>NaN</td>\n",
       "      <td>NaN</td>\n",
       "      <td>NaN</td>\n",
       "      <td>0</td>\n",
       "      <td>9</td>\n",
       "      <td>2008</td>\n",
       "      <td>WD</td>\n",
       "      <td>Normal</td>\n",
       "      <td>223500</td>\n",
       "    </tr>\n",
       "    <tr>\n",
       "      <th>3</th>\n",
       "      <td>4</td>\n",
       "      <td>70</td>\n",
       "      <td>RL</td>\n",
       "      <td>60.0</td>\n",
       "      <td>9550</td>\n",
       "      <td>Pave</td>\n",
       "      <td>NaN</td>\n",
       "      <td>IR1</td>\n",
       "      <td>Lvl</td>\n",
       "      <td>AllPub</td>\n",
       "      <td>...</td>\n",
       "      <td>0</td>\n",
       "      <td>NaN</td>\n",
       "      <td>NaN</td>\n",
       "      <td>NaN</td>\n",
       "      <td>0</td>\n",
       "      <td>2</td>\n",
       "      <td>2006</td>\n",
       "      <td>WD</td>\n",
       "      <td>Abnorml</td>\n",
       "      <td>140000</td>\n",
       "    </tr>\n",
       "    <tr>\n",
       "      <th>4</th>\n",
       "      <td>5</td>\n",
       "      <td>60</td>\n",
       "      <td>RL</td>\n",
       "      <td>84.0</td>\n",
       "      <td>14260</td>\n",
       "      <td>Pave</td>\n",
       "      <td>NaN</td>\n",
       "      <td>IR1</td>\n",
       "      <td>Lvl</td>\n",
       "      <td>AllPub</td>\n",
       "      <td>...</td>\n",
       "      <td>0</td>\n",
       "      <td>NaN</td>\n",
       "      <td>NaN</td>\n",
       "      <td>NaN</td>\n",
       "      <td>0</td>\n",
       "      <td>12</td>\n",
       "      <td>2008</td>\n",
       "      <td>WD</td>\n",
       "      <td>Normal</td>\n",
       "      <td>250000</td>\n",
       "    </tr>\n",
       "  </tbody>\n",
       "</table>\n",
       "<p>5 rows × 81 columns</p>\n",
       "</div>"
      ],
      "text/plain": [
       "   Id  MSSubClass MSZoning  LotFrontage  LotArea Street Alley LotShape  \\\n",
       "0   1          60       RL         65.0     8450   Pave   NaN      Reg   \n",
       "1   2          20       RL         80.0     9600   Pave   NaN      Reg   \n",
       "2   3          60       RL         68.0    11250   Pave   NaN      IR1   \n",
       "3   4          70       RL         60.0     9550   Pave   NaN      IR1   \n",
       "4   5          60       RL         84.0    14260   Pave   NaN      IR1   \n",
       "\n",
       "  LandContour Utilities  ... PoolArea PoolQC Fence MiscFeature MiscVal MoSold  \\\n",
       "0         Lvl    AllPub  ...        0    NaN   NaN         NaN       0      2   \n",
       "1         Lvl    AllPub  ...        0    NaN   NaN         NaN       0      5   \n",
       "2         Lvl    AllPub  ...        0    NaN   NaN         NaN       0      9   \n",
       "3         Lvl    AllPub  ...        0    NaN   NaN         NaN       0      2   \n",
       "4         Lvl    AllPub  ...        0    NaN   NaN         NaN       0     12   \n",
       "\n",
       "  YrSold  SaleType  SaleCondition  SalePrice  \n",
       "0   2008        WD         Normal     208500  \n",
       "1   2007        WD         Normal     181500  \n",
       "2   2008        WD         Normal     223500  \n",
       "3   2006        WD        Abnorml     140000  \n",
       "4   2008        WD         Normal     250000  \n",
       "\n",
       "[5 rows x 81 columns]"
      ]
     },
     "execution_count": 641,
     "metadata": {},
     "output_type": "execute_result"
    }
   ],
   "source": [
    "import pandas as pd\n",
    "data = pd.read_csv(\"/home/claym0re/Projects/python3/machine-learning/ml-algorithms/datasets/house-prices/train.csv\")\n",
    "data.head()"
   ]
  },
  {
   "cell_type": "code",
   "execution_count": 642,
   "id": "3643ab7c",
   "metadata": {
    "scrolled": false
   },
   "outputs": [],
   "source": [
    "X_raw = data[[\"SalePrice\", \"OverallQual\"]]\n",
    "y_raw = data[\"YearBuilt\"]"
   ]
  },
  {
   "cell_type": "code",
   "execution_count": 4,
   "id": "7b93832c",
   "metadata": {},
   "outputs": [],
   "source": [
    "from sklearn.compose import ColumnTransformer\n",
    "from sklearn.preprocessing import MinMaxScaler, StandardScaler\n",
    "from sklearn.impute import SimpleImputer\n",
    "\n",
    "column_transformer = ColumnTransformer([\n",
    "    (\"imputer\", SimpleImputer(), [\"LotFrontage\"]),\n",
    "    (\"minmax1\", MinMaxScaler((0,10)), [\"SalePrice\"]),\n",
    "    (\"minmax2\", MinMaxScaler((0,10)), [\"LotFrontage\"])],remainder=\"passthrough\")"
   ]
  },
  {
   "cell_type": "code",
   "execution_count": 644,
   "id": "49c0beb9",
   "metadata": {
    "scrolled": true
   },
   "outputs": [],
   "source": [
    "# from sklearn.pipeline import make_pipeline\n",
    "# from sklearn.pipeline import Pipeline\n",
    "\n",
    "# transformation_pipeline = make_pipeline(column_transformer, StandardScaler(), SimpleImputer())\n",
    "# X = np.delete(transformation_pipeline.fit_transform(X_raw), 0, 1)\n",
    "standard_scaler = StandardScaler()\n",
    "X = standard_scaler.fit_transform(X_raw)"
   ]
  },
  {
   "cell_type": "code",
   "execution_count": 645,
   "id": "7d50ee98",
   "metadata": {
    "scrolled": false
   },
   "outputs": [
    {
     "data": {
      "text/plain": [
       "(array([0, 1]), array([848, 612]))"
      ]
     },
     "execution_count": 645,
     "metadata": {},
     "output_type": "execute_result"
    }
   ],
   "source": [
    "y = np.where(y_raw>=1980, 1, 0).reshape(-1,)\n",
    "np.unique(y, return_counts=True)"
   ]
  },
  {
   "cell_type": "code",
   "execution_count": 800,
   "id": "41b7ce75",
   "metadata": {
    "scrolled": false
   },
   "outputs": [],
   "source": [
    "class SVMc:\n",
    "    '''Support Vector Machine Classification with Stochastic Gradient Descent'''\n",
    "    def __init__(self, learning_rate=0.1, max_iter=1000, lbd=0.1, tol=1e-12):\n",
    "        self.alpha = learning_rate\n",
    "        self.max_iter = max_iter\n",
    "        self.lbd = lbd\n",
    "        self.tol = tol\n",
    "\n",
    "\n",
    "    def fit(self, X, y):\n",
    "        \n",
    "        n_samples, n_features = X.shape\n",
    "        \n",
    "        self.X = X\n",
    "        self.y = np.where(y==0, -1, 1)\n",
    "        \n",
    "        # init parameters\n",
    "        self.weights = np.zeros(n_features)\n",
    "        self.ww = []\n",
    "        self.bias = 0\n",
    "        self.losses = []\n",
    "        self.scores = []\n",
    "\n",
    "        # gradient descent\n",
    "        for itr in range(self.max_iter):\n",
    "            loss = 0\n",
    "            theta = 0\n",
    "            for xi, yi in zip(self.X, self.y):\n",
    "                y_pred = self.decision_function(xi)                          \n",
    "                # computing the gradient given the condition\n",
    "                condition = (yi * y_pred >= 1)\n",
    "                \n",
    "                if condition:                     ##if classified correctly\n",
    "                    dW = self.lbd * self.weights\n",
    "                    dB = 0\n",
    "                else:\n",
    "                    loss += 1\n",
    "                    dW = (self.lbd * self.weights) - np.dot(xi, yi)\n",
    "                    dB = self.decision_function(xi)\n",
    "                \n",
    "                # updating the parameters\n",
    "                self.weights -= self.alpha * dW\n",
    "                self.bias -= self.alpha * dB\n",
    "            \n",
    "            theta += self.weights.flatten()\n",
    "            self.ww.append(theta)\n",
    "            self.losses.append(loss)\n",
    "            \n",
    "        print(self.weights, self.bias)\n",
    "    def decision_function(self, X):\n",
    "        return np.dot(X, self.weights.T) + self.bias\n",
    "    \n",
    "    def predict(self, X):                    \n",
    "        return np.sign(self.decision_function(X))\n",
    "    \n",
    "    def score(self, X, y):\n",
    "        y_ = list(np.where(y==0,-1,1))\n",
    "        return np.sum(y_ == self.predict(X))/len(y_)\n",
    "                                            \n",
    "    def transform(self, X, y):\n",
    "        pass"
   ]
  },
  {
   "cell_type": "code",
   "execution_count": 801,
   "id": "b93b5bc7",
   "metadata": {},
   "outputs": [
    {
     "name": "stdout",
     "output_type": "stream",
     "text": [
      "[0.77771682 1.34903763] -0.1952029335338057\n"
     ]
    }
   ],
   "source": [
    "svc = SVMc(learning_rate=1e-4, max_iter=1000, lbd=1e-10)\n",
    "svc.fit(X[:1000], y[:1000])"
   ]
  },
  {
   "cell_type": "code",
   "execution_count": 802,
   "id": "b164822b",
   "metadata": {
    "scrolled": false
   },
   "outputs": [
    {
     "data": {
      "image/png": "[encoded data removed]",
      "text/plain": [
       "<Figure size 432x288 with 1 Axes>"
      ]
     },
     "metadata": {},
     "output_type": "display_data"
    }
   ],
   "source": [
    "plt.title(\"Error Count x Iteration\")\n",
    "plt.plot(np.arange(0,len(svc.losses)), svc.losses, \"-\")\n",
    "plt.tight_layout()"
   ]
  },
  {
   "cell_type": "code",
   "execution_count": 803,
   "id": "f063bb7e",
   "metadata": {},
   "outputs": [
    {
     "data": {
      "image/png": "[encoded data removed]",
      "text/plain": [
       "<Figure size 432x288 with 1 Axes>"
      ]
     },
     "metadata": {},
     "output_type": "display_data"
    }
   ],
   "source": [
    "plt.title(\"Weights X Iteration\", fontsize=14)\n",
    "plt.plot(np.array(svc.ww)[:,0], np.array(svc.ww)[:,1], \"r\")\n",
    "plt.tight_layout()"
   ]
  },
  {
   "cell_type": "code",
   "execution_count": 804,
   "id": "6dd800a8",
   "metadata": {
    "scrolled": false
   },
   "outputs": [
    {
     "name": "stdout",
     "output_type": "stream",
     "text": [
      "Test Score:  0.8282608695652174\n"
     ]
    }
   ],
   "source": [
    "print(\"Test Score: \", svc.score(X[1000:], y[1000:]))"
   ]
  },
  {
   "cell_type": "code",
   "execution_count": 805,
   "id": "0efad6b2",
   "metadata": {
    "scrolled": true
   },
   "outputs": [
    {
     "name": "stdout",
     "output_type": "stream",
     "text": [
      "Test Predictions Count:  (array([-1.,  1.]), array([283, 177]))\n",
      "Test Labels Count:  (array([-1,  1]), array([274, 186]))\n"
     ]
    }
   ],
   "source": [
    "print(\"Test Predictions Count: \",np.unique(svc.predict(X[1000:]), return_counts=True))\n",
    "print(\"Test Labels Count: \", np.unique(np.where(y[1000:]==0, -1,1), return_counts=True))"
   ]
  },
  {
   "cell_type": "code",
   "execution_count": 806,
   "id": "e62cc488",
   "metadata": {
    "scrolled": false
   },
   "outputs": [
    {
     "data": {
      "text/plain": [
       "<sklearn.metrics._plot.confusion_matrix.ConfusionMatrixDisplay at 0x7f99d9666d10>"
      ]
     },
     "execution_count": 806,
     "metadata": {},
     "output_type": "execute_result"
    },
    {
     "data": {
      "image/png": "[encoded data removed]",
      "text/plain": [
       "<Figure size 432x288 with 1 Axes>"
      ]
     },
     "metadata": {},
     "output_type": "display_data"
    }
   ],
   "source": [
    "from sklearn.metrics import confusion_matrix, ConfusionMatrixDisplay\n",
    "ConfusionMatrixDisplay(confusion_matrix(y[1000:], np.where(svc.predict(X[1000:]) == -1,0,1)), display_labels=[\"Old\", \"New\"]).plot(colorbar=False)"
   ]
  },
  {
   "cell_type": "code",
   "execution_count": 818,
   "id": "0e0242c3",
   "metadata": {},
   "outputs": [
    {
     "data": {
      "image/png": "[encoded data removed]",
      "text/plain": [
       "<Figure size 432x288 with 1 Axes>"
      ]
     },
     "metadata": {},
     "output_type": "display_data"
    }
   ],
   "source": [
    "sv1 = np.min([x for x in svc.decision_function(X) if x>=1])\n",
    "sv0 = np.max([x for x in svc.decision_function(X) if x<1])\n",
    "# Plot data points and color using their class\n",
    "color = ['blue' if c == 0 else 'purple' for c in y]\n",
    "plt.scatter(X[:,0], X[:,1], c=color)\n",
    "\n",
    "# Create the hyperplane\n",
    "w = svc.weights\n",
    "a = -w[0] / w[1]\n",
    "xx = np.linspace(-2.5, 5)\n",
    "yy = a * xx - (svc.bias) / w[1]\n",
    "yy1 = (a * xx - (svc.bias) / w[1]) + sv1-1\n",
    "yy0 = (a * xx - (svc.bias) / w[1]) - (1-sv0)\n",
    "\n",
    "\n",
    "# Plot the hyperplane\n",
    "plt.plot(xx, yy, \"g\")\n",
    "plt.plot(xx, yy1, \"g--\")\n",
    "plt.plot(xx, yy0, \"g--\")\n",
    "\n",
    "plt.axis([-2, 4, -2.3, 3])\n",
    "plt.tight_layout()"
   ]
  },
  {
   "cell_type": "code",
   "execution_count": 817,
   "id": "b92b19d7",
   "metadata": {
    "scrolled": false
   },
   "outputs": [
    {
     "data": {
      "image/png": "[encoded data removed]",
      "text/plain": [
       "<Figure size 432x288 with 1 Axes>"
      ]
     },
     "metadata": {},
     "output_type": "display_data"
    }
   ],
   "source": [
    "def plot_contour(X, y, svm):\n",
    "    # plot the resulting classifier\n",
    "    h = 0.001\n",
    "    x_min, x_max = X[:, 0].min() - 1, X[:, 0].max() + 1\n",
    "    y_min, y_max = X[:, 1].min() - 1, X[:, 1].max() + 1\n",
    "\n",
    "    xx, yy = np.meshgrid(np.arange(x_min, x_max, h), np.arange(y_min, y_max, h))\n",
    "\n",
    "    points = np.c_[xx.ravel(), yy.ravel()]\n",
    "\n",
    "    Z = svm.predict(points)\n",
    "    Z = Z.reshape(xx.shape)\n",
    "    plt.contourf(xx, yy, Z, alpha=0.9)\n",
    "\n",
    "    # plt the points\n",
    "    plt.scatter(X[:, 0], X[:, 1], c=y, s=40, cmap=plt.cm.Spectral)\n",
    "    plt.show()\n",
    "\n",
    "plot_contour(X,y,svc)"
   ]
  },
  {
   "cell_type": "code",
   "execution_count": 1,
   "id": "7e1859e4",
   "metadata": {},
   "outputs": [],
   "source": [
    "class SVM:\n",
    "    def __init__(self, kernel='linear', C=10000.0, max_iter=100000, degree=3, gamma=1):\n",
    "        self.kernel = {'poly':lambda x,y: np.dot(x, y.T)**degree,\n",
    "                       'rbf':lambda x,y:np.exp(-gamma*np.sum((y-x[:,np.newaxis])**2,axis=-1)),\n",
    "                       'linear':lambda x,y: np.dot(x, y.T)}[kernel]\n",
    "        self.C = C\n",
    "        self.max_iter = max_iter\n",
    "\n",
    "    def restrict_to_square(self, t, v0, u):\n",
    "        t = (np.clip(v0 + t*u, 0, self.C) - v0)[1]/u[1]\n",
    "        return (np.clip(v0 + t*u, 0, self.C) - v0)[0]/u[0]\n",
    "\n",
    "  \n",
    "    def fit(self, X, y):\n",
    "        self.X = X.copy()\n",
    "        self.y = y * 2 - 1\n",
    "        self.lambdas = np.zeros_like(self.y, dtype=float)\n",
    "        self.K = self.kernel(self.X, self.X) * self.y[:,np.newaxis] * self.y\n",
    "\n",
    "        for _ in range(self.max_iter):\n",
    "            for idxM in range(len(self.lambdas)):\n",
    "                idxL = np.random.randint(0, len(self.lambdas))\n",
    "                Q = self.K[[[idxM, idxM], [idxL, idxL]], [[idxM, idxL], [idxM, idxL]]]\n",
    "                v0 = self.lambdas[[idxM, idxL]]\n",
    "                k0 = 1 - np.sum(self.lambdas * self.K[[idxM, idxL]], axis=1)\n",
    "                u = np.array([-self.y[idxL], self.y[idxM]])\n",
    "                t_max = np.dot(k0, u) / (np.dot(np.dot(Q, u), u) + 1E-15)\n",
    "                self.lambdas[[idxM, idxL]] = v0 + u * self.restrict_to_square(t_max, v0, u)\n",
    "    \n",
    "        idx, = np.nonzero(self.lambdas > 1E-15)\n",
    "        self.b = np.sum((1.0-np.sum(self.K[idx]*self.lambdas, axis=1))*self.y[idx])/len(idx)\n",
    "\n",
    "    def decision_function(self, X):\n",
    "        return np.sum(self.kernel(X, self.X) * self.y * self.lambdas, axis=1) + self.b"
   ]
  }
 ],
 "metadata": {
  "kernelspec": {
   "display_name": "Python [conda env:machine-learning] *",
   "language": "python",
   "name": "conda-env-machine-learning-py"
  },
  "language_info": {
   "codemirror_mode": {
    "name": "ipython",
    "version": 3
   },
   "file_extension": ".py",
   "mimetype": "text/x-python",
   "name": "python",
   "nbconvert_exporter": "python",
   "pygments_lexer": "ipython3",
   "version": "3.7.7"
  }
 },
 "nbformat": 4,
 "nbformat_minor": 5
}
