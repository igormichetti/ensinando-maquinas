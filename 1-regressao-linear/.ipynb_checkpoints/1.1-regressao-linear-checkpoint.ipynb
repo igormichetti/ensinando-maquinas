{
 "cells": [
  {
   "cell_type": "markdown",
   "id": "675b931a",
   "metadata": {},
   "source": [
    "# Capítulo 1 - Regressão Linear\n",
    "\n",
    "## Nesse capítulo vamos estudar:\n",
    "\n",
    "#### 1. [Definição de Regressão](#1)\n",
    "\n",
    "#### 2. [Aquisição e Manipulação de Dados](#2)\n",
    "\n",
    "#### 3.  [Visualisação de Dados](#3)\n",
    "\n",
    "#### 4. [Princípios Básicos de Regressão Linear](#4)\n",
    "\n",
    "#### 5. [Métodos de Avalição para Regressão](#5)\n",
    "\n",
    "#### 6. [Equação Normal](#6)\n",
    "\n",
    "#### 7. [Conclusão e Desafio](#7)\n",
    "___\n",
    "___\n",
    "___"
   ]
  },
  {
   "cell_type": "markdown",
   "id": "036ddace",
   "metadata": {},
   "source": [
    "<a id=\"1\"></a>\n",
    "# 1. O Conceito de Regressão\n",
    "\n",
    "Regressão é uma técnica muito comum em Aprendizado de Máquina, que é usada para estudar relacionamentos entre variáveis independentes para prever um resultado de uma variável dependente.\n",
    "\n",
    "Nesse caso, uma Regressão Linear é usada para prever um dado \"Y\" dado uma ou mais variáveis X, Z,..., etc. Vamos ver essa técnica em prática para ter uma melhor representação."
   ]
  },
  {
   "cell_type": "code",
   "execution_count": 1,
   "id": "02d0a5af",
   "metadata": {},
   "outputs": [],
   "source": [
    "## Primeiramente, vamos verificar nosso ambiente e fazer a importação das bibliotecas nescessárias.\n",
    "\n",
    "# Vamos usar uma versao do Python ≥ 3.5\n",
    "import sys\n",
    "assert sys.version_info >= (3, 5)\n",
    "sys.path.append(\"..\")\n",
    "\n",
    "# E uma versao da Scikit-Learn ≥0.20\n",
    "import sklearn\n",
    "assert sklearn.__version__ >= \"0.20\"\n",
    "\n",
    "# Vamos importar Numpy para certos calculos matematicos e Pandas para analize e manipulação de dados.\n",
    "import numpy as np\n",
    "import pandas as pd\n",
    "\n",
    "# Vamos definar a nossa random seed, para que os resultados sejam replicaveis.\n",
    "np.random.seed(42)\n",
    "\n",
    "# E finalmente, vamos importar a biblioteca MatplotLib para visualizar os dados.\n",
    "import matplotlib as mpl\n",
    "import matplotlib.pyplot as plt\n",
    "\n",
    "%matplotlib inline\n",
    "\n",
    "mpl.style.use(\"seaborn-bright\")\n",
    "mpl.rc('figure', figsize=(14,4.5))\n",
    "mpl.rc('axes', titlesize=20)\n",
    "mpl.rc('axes', labelsize=14)\n",
    "mpl.rc('xtick', labelsize=12)\n",
    "mpl.rc('ytick', labelsize=12)\n",
    "mpl.rcParams['axes.facecolor'] = 'whitesmoke'\n",
    "mpl.rcParams.update({\"axes.grid\" : True, \"grid.color\": \"grey\"})\n",
    "\n",
    "### Nota: caso haja qualquer dúvida sempre Bibliotecas ou suas funções, as suas documentações estão disponíveis\n",
    "### no arquivo README.txt. Você também pode usar a função \"help(**insira a funcao aqui**)\" para ter uma\n",
    "### explicação detalhada dentro do notebook."
   ]
  },
  {
   "cell_type": "markdown",
   "id": "cde961ea",
   "metadata": {},
   "source": [
    "<a id=\"2\"></a>\n",
    "___\n",
    "# 2. Aquisição e Manipulação dos Dados\n",
    "## Vamos abrir e analizar nosso dataset. \n",
    "O dataset que usaremos foi obtido no site <a href=www.kaggle.com/code/faressayah/stock-market-analysis-prediction-using-lstm>Kaggle</a>. Nesse site, além de vários datasets públicos, também contem competições e informações para você desenvolver projetos de Aprendizado de Máquina. Recomendo prestar uma visita e por a mão a massa após o termino desse Notebook.\n",
    "\n",
    "### Sobre o dataset:\n",
    "\n",
    "Esse dataset contém as informações essenciais sobre o preço das ações da Apple Inc.(AAPL), de 2010 a 2020. \n",
    "Vamos utiliza-lo de forma educativa, para tentar prever os preços das ações com base nos seus dados anteriores.\n",
    "<br><br><br>"
   ]
  },
  {
   "cell_type": "code",
   "execution_count": 2,
   "id": "68d083bb",
   "metadata": {
    "scrolled": false
   },
   "outputs": [],
   "source": [
    "# Vamos importar o dataset usando o Pandas\n",
    "\n",
    "import pandas as pd\n",
    "aapl = pd.read_csv(\"../datasets/aapl-stocks.csv\")"
   ]
  },
  {
   "cell_type": "code",
   "execution_count": 3,
   "id": "1a676f2f",
   "metadata": {
    "scrolled": false
   },
   "outputs": [
    {
     "data": {
      "text/html": [
       "<div>\n",
       "<style scoped>\n",
       "    .dataframe tbody tr th:only-of-type {\n",
       "        vertical-align: middle;\n",
       "    }\n",
       "\n",
       "    .dataframe tbody tr th {\n",
       "        vertical-align: top;\n",
       "    }\n",
       "\n",
       "    .dataframe thead th {\n",
       "        text-align: right;\n",
       "    }\n",
       "</style>\n",
       "<table border=\"1\" class=\"dataframe\">\n",
       "  <thead>\n",
       "    <tr style=\"text-align: right;\">\n",
       "      <th></th>\n",
       "      <th>Date</th>\n",
       "      <th>Close</th>\n",
       "      <th>Volume</th>\n",
       "      <th>Open</th>\n",
       "      <th>High</th>\n",
       "      <th>Low</th>\n",
       "    </tr>\n",
       "  </thead>\n",
       "  <tbody>\n",
       "    <tr>\n",
       "      <th>0</th>\n",
       "      <td>02/28/2020</td>\n",
       "      <td>273.36</td>\n",
       "      <td>106721200</td>\n",
       "      <td>$257.26</td>\n",
       "      <td>$278.41</td>\n",
       "      <td>$256.37</td>\n",
       "    </tr>\n",
       "    <tr>\n",
       "      <th>1</th>\n",
       "      <td>02/27/2020</td>\n",
       "      <td>$273.52</td>\n",
       "      <td>80151380</td>\n",
       "      <td>$281.1</td>\n",
       "      <td>$286</td>\n",
       "      <td>$272.96</td>\n",
       "    </tr>\n",
       "    <tr>\n",
       "      <th>2</th>\n",
       "      <td>02/26/2020</td>\n",
       "      <td>$292.65</td>\n",
       "      <td>49678430</td>\n",
       "      <td>$286.53</td>\n",
       "      <td>$297.88</td>\n",
       "      <td>$286.5</td>\n",
       "    </tr>\n",
       "    <tr>\n",
       "      <th>3</th>\n",
       "      <td>02/25/2020</td>\n",
       "      <td>$288.08</td>\n",
       "      <td>57668360</td>\n",
       "      <td>$300.95</td>\n",
       "      <td>$302.53</td>\n",
       "      <td>$286.13</td>\n",
       "    </tr>\n",
       "    <tr>\n",
       "      <th>4</th>\n",
       "      <td>02/24/2020</td>\n",
       "      <td>$298.18</td>\n",
       "      <td>55548830</td>\n",
       "      <td>$297.26</td>\n",
       "      <td>$304.18</td>\n",
       "      <td>$289.23</td>\n",
       "    </tr>\n",
       "  </tbody>\n",
       "</table>\n",
       "</div>"
      ],
      "text/plain": [
       "         Date     Close     Volume      Open      High       Low\n",
       "0  02/28/2020    273.36  106721200   $257.26   $278.41   $256.37\n",
       "1  02/27/2020   $273.52   80151380    $281.1      $286   $272.96\n",
       "2  02/26/2020   $292.65   49678430   $286.53   $297.88    $286.5\n",
       "3  02/25/2020   $288.08   57668360   $300.95   $302.53   $286.13\n",
       "4  02/24/2020   $298.18   55548830   $297.26   $304.18   $289.23"
      ]
     },
     "execution_count": 3,
     "metadata": {},
     "output_type": "execute_result"
    }
   ],
   "source": [
    "# Agora vamos fazer uma rápida análise\n",
    "\n",
    "## A função do Pandas \".head()\" mostra as 5 primeiras amostrar dos nossos dados.\n",
    "## Isso é muito útil, pois podemos ter uma noção de cada caracteristica dos nosso dataset.\n",
    "aapl.head()"
   ]
  },
  {
   "cell_type": "markdown",
   "id": "36ac7902",
   "metadata": {},
   "source": [
    ">Isso é um dataset, um conjunto de dados em forma de uma matriz, com cada coluna sendo uma característica do nosso dado, e cada linha, uma amostra do mesmo. Nesse caso temos o dado preço de ações da Apple Inc. Cada linha são suas informações de acordo com o dia que esse dado foi gerado. Nesse dataset, temos 2518 amostra(dias e seus respectivos preços), e cada variável, ou característica, são suas respectivas colunas, ou seja, temos 6 caracteŕisticas.\n",
    "\n",
    ">*Podemos observar que os preços então representados em dólar americano, e contendo o seu símbolo. Como precisamos dos números para fazer os cálculos, vamos converter essas moedas e floats.*\n",
    "\n",
    "<br>\n"
   ]
  },
  {
   "cell_type": "code",
   "execution_count": 4,
   "id": "94c9f57f",
   "metadata": {},
   "outputs": [
    {
     "data": {
      "text/html": [
       "<div>\n",
       "<style scoped>\n",
       "    .dataframe tbody tr th:only-of-type {\n",
       "        vertical-align: middle;\n",
       "    }\n",
       "\n",
       "    .dataframe tbody tr th {\n",
       "        vertical-align: top;\n",
       "    }\n",
       "\n",
       "    .dataframe thead th {\n",
       "        text-align: right;\n",
       "    }\n",
       "</style>\n",
       "<table border=\"1\" class=\"dataframe\">\n",
       "  <thead>\n",
       "    <tr style=\"text-align: right;\">\n",
       "      <th></th>\n",
       "      <th>Date</th>\n",
       "      <th>Close</th>\n",
       "      <th>Volume</th>\n",
       "      <th>Open</th>\n",
       "      <th>High</th>\n",
       "      <th>Low</th>\n",
       "    </tr>\n",
       "  </thead>\n",
       "  <tbody>\n",
       "    <tr>\n",
       "      <th>0</th>\n",
       "      <td>02/28/2020</td>\n",
       "      <td>273.36</td>\n",
       "      <td>106721200</td>\n",
       "      <td>257.26</td>\n",
       "      <td>278.41</td>\n",
       "      <td>256.37</td>\n",
       "    </tr>\n",
       "    <tr>\n",
       "      <th>1</th>\n",
       "      <td>02/27/2020</td>\n",
       "      <td>273.52</td>\n",
       "      <td>80151380</td>\n",
       "      <td>281.10</td>\n",
       "      <td>286.00</td>\n",
       "      <td>272.96</td>\n",
       "    </tr>\n",
       "    <tr>\n",
       "      <th>2</th>\n",
       "      <td>02/26/2020</td>\n",
       "      <td>292.65</td>\n",
       "      <td>49678430</td>\n",
       "      <td>286.53</td>\n",
       "      <td>297.88</td>\n",
       "      <td>286.50</td>\n",
       "    </tr>\n",
       "    <tr>\n",
       "      <th>3</th>\n",
       "      <td>02/25/2020</td>\n",
       "      <td>288.08</td>\n",
       "      <td>57668360</td>\n",
       "      <td>300.95</td>\n",
       "      <td>302.53</td>\n",
       "      <td>286.13</td>\n",
       "    </tr>\n",
       "    <tr>\n",
       "      <th>4</th>\n",
       "      <td>02/24/2020</td>\n",
       "      <td>298.18</td>\n",
       "      <td>55548830</td>\n",
       "      <td>297.26</td>\n",
       "      <td>304.18</td>\n",
       "      <td>289.23</td>\n",
       "    </tr>\n",
       "  </tbody>\n",
       "</table>\n",
       "</div>"
      ],
      "text/plain": [
       "         Date   Close     Volume    Open    High     Low\n",
       "0  02/28/2020  273.36  106721200  257.26  278.41  256.37\n",
       "1  02/27/2020  273.52   80151380  281.10  286.00  272.96\n",
       "2  02/26/2020  292.65   49678430  286.53  297.88  286.50\n",
       "3  02/25/2020  288.08   57668360  300.95  302.53  286.13\n",
       "4  02/24/2020  298.18   55548830  297.26  304.18  289.23"
      ]
     },
     "execution_count": 4,
     "metadata": {},
     "output_type": "execute_result"
    }
   ],
   "source": [
    "# Vamos selecionar as colunas com $ e transformalas em float\n",
    "\n",
    "aapl[[\"Close\", \"Open\", \"High\", \"Low\"]] = aapl[[\"Close\", \"Open\", \"High\", \"Low\"]].replace(\"[ $,]\", \"\", regex=True).astype(float)\n",
    "aapl.head()"
   ]
  },
  {
   "cell_type": "code",
   "execution_count": 5,
   "id": "f56c9aec",
   "metadata": {
    "scrolled": false
   },
   "outputs": [
    {
     "name": "stdout",
     "output_type": "stream",
     "text": [
      "<class 'pandas.core.frame.DataFrame'>\n",
      "RangeIndex: 2518 entries, 0 to 2517\n",
      "Data columns (total 6 columns):\n",
      " #   Column  Non-Null Count  Dtype  \n",
      "---  ------  --------------  -----  \n",
      " 0   Date    2518 non-null   object \n",
      " 1   Close   2518 non-null   float64\n",
      " 2   Volume  2518 non-null   int64  \n",
      " 3   Open    2518 non-null   float64\n",
      " 4   High    2518 non-null   float64\n",
      " 5   Low     2518 non-null   float64\n",
      "dtypes: float64(4), int64(1), object(1)\n",
      "memory usage: 118.2+ KB\n"
     ]
    }
   ],
   "source": [
    "# Agora vamos analizar as informações numéricas de cada coluna.\n",
    "\n",
    "aapl.info()"
   ]
  },
  {
   "cell_type": "markdown",
   "id": "12fc9f81",
   "metadata": {},
   "source": [
    ">*Podemos notar que as colunas foram formatadas com sucesso, e não a nenhum valor nulo para nos preocuparmos. Porém ainda precisamos lidar com a coluna \"Data\", pois ela está formatada como um Objeto(um texto), e queremos utiliza-la no formato numérico \"datetime\", pois vamos usar esses dados de forma cronológica.*\n",
    "<br>"
   ]
  },
  {
   "cell_type": "code",
   "execution_count": 6,
   "id": "4774c1c8",
   "metadata": {
    "scrolled": true
   },
   "outputs": [
    {
     "data": {
      "text/plain": [
       "count           2518\n",
       "unique          2518\n",
       "top       2020-02-28\n",
       "freq               1\n",
       "Name: Date, dtype: object"
      ]
     },
     "execution_count": 6,
     "metadata": {},
     "output_type": "execute_result"
    }
   ],
   "source": [
    "# Vamos formatar essa coluna para \"datetime\".\n",
    "\n",
    "aapl[\"Date\"] = pd.to_datetime(aapl[\"Date\"]).dt.date\n",
    "aapl[\"Date\"].describe(datetime_is_numeric=True)"
   ]
  },
  {
   "cell_type": "code",
   "execution_count": 7,
   "id": "de1c96a5",
   "metadata": {},
   "outputs": [
    {
     "data": {
      "text/html": [
       "<div>\n",
       "<style scoped>\n",
       "    .dataframe tbody tr th:only-of-type {\n",
       "        vertical-align: middle;\n",
       "    }\n",
       "\n",
       "    .dataframe tbody tr th {\n",
       "        vertical-align: top;\n",
       "    }\n",
       "\n",
       "    .dataframe thead th {\n",
       "        text-align: right;\n",
       "    }\n",
       "</style>\n",
       "<table border=\"1\" class=\"dataframe\">\n",
       "  <thead>\n",
       "    <tr style=\"text-align: right;\">\n",
       "      <th></th>\n",
       "      <th>Date</th>\n",
       "      <th>Close</th>\n",
       "      <th>Volume</th>\n",
       "      <th>Open</th>\n",
       "      <th>High</th>\n",
       "      <th>Low</th>\n",
       "      <th>Dias</th>\n",
       "    </tr>\n",
       "  </thead>\n",
       "  <tbody>\n",
       "    <tr>\n",
       "      <th>0</th>\n",
       "      <td>2020-02-28</td>\n",
       "      <td>273.3600</td>\n",
       "      <td>106721200</td>\n",
       "      <td>257.2600</td>\n",
       "      <td>278.4100</td>\n",
       "      <td>256.3700</td>\n",
       "      <td>2517</td>\n",
       "    </tr>\n",
       "    <tr>\n",
       "      <th>1</th>\n",
       "      <td>2020-02-27</td>\n",
       "      <td>273.5200</td>\n",
       "      <td>80151380</td>\n",
       "      <td>281.1000</td>\n",
       "      <td>286.0000</td>\n",
       "      <td>272.9600</td>\n",
       "      <td>2516</td>\n",
       "    </tr>\n",
       "    <tr>\n",
       "      <th>2</th>\n",
       "      <td>2020-02-26</td>\n",
       "      <td>292.6500</td>\n",
       "      <td>49678430</td>\n",
       "      <td>286.5300</td>\n",
       "      <td>297.8800</td>\n",
       "      <td>286.5000</td>\n",
       "      <td>2515</td>\n",
       "    </tr>\n",
       "    <tr>\n",
       "      <th>3</th>\n",
       "      <td>2020-02-25</td>\n",
       "      <td>288.0800</td>\n",
       "      <td>57668360</td>\n",
       "      <td>300.9500</td>\n",
       "      <td>302.5300</td>\n",
       "      <td>286.1300</td>\n",
       "      <td>2514</td>\n",
       "    </tr>\n",
       "    <tr>\n",
       "      <th>4</th>\n",
       "      <td>2020-02-24</td>\n",
       "      <td>298.1800</td>\n",
       "      <td>55548830</td>\n",
       "      <td>297.2600</td>\n",
       "      <td>304.1800</td>\n",
       "      <td>289.2300</td>\n",
       "      <td>2513</td>\n",
       "    </tr>\n",
       "    <tr>\n",
       "      <th>...</th>\n",
       "      <td>...</td>\n",
       "      <td>...</td>\n",
       "      <td>...</td>\n",
       "      <td>...</td>\n",
       "      <td>...</td>\n",
       "      <td>...</td>\n",
       "      <td>...</td>\n",
       "    </tr>\n",
       "    <tr>\n",
       "      <th>2513</th>\n",
       "      <td>2010-03-05</td>\n",
       "      <td>31.2786</td>\n",
       "      <td>224647427</td>\n",
       "      <td>30.7057</td>\n",
       "      <td>31.3857</td>\n",
       "      <td>30.6614</td>\n",
       "      <td>4</td>\n",
       "    </tr>\n",
       "    <tr>\n",
       "      <th>2514</th>\n",
       "      <td>2010-03-04</td>\n",
       "      <td>30.1014</td>\n",
       "      <td>89591907</td>\n",
       "      <td>29.8971</td>\n",
       "      <td>30.1314</td>\n",
       "      <td>29.8043</td>\n",
       "      <td>3</td>\n",
       "    </tr>\n",
       "    <tr>\n",
       "      <th>2515</th>\n",
       "      <td>2010-03-03</td>\n",
       "      <td>29.9043</td>\n",
       "      <td>92846488</td>\n",
       "      <td>29.8486</td>\n",
       "      <td>29.9814</td>\n",
       "      <td>29.7057</td>\n",
       "      <td>2</td>\n",
       "    </tr>\n",
       "    <tr>\n",
       "      <th>2516</th>\n",
       "      <td>2010-03-02</td>\n",
       "      <td>29.8357</td>\n",
       "      <td>141486282</td>\n",
       "      <td>29.9900</td>\n",
       "      <td>30.1186</td>\n",
       "      <td>29.6771</td>\n",
       "      <td>1</td>\n",
       "    </tr>\n",
       "    <tr>\n",
       "      <th>2517</th>\n",
       "      <td>2010-03-01</td>\n",
       "      <td>29.8557</td>\n",
       "      <td>137312041</td>\n",
       "      <td>29.3928</td>\n",
       "      <td>29.9286</td>\n",
       "      <td>29.3500</td>\n",
       "      <td>0</td>\n",
       "    </tr>\n",
       "  </tbody>\n",
       "</table>\n",
       "<p>2518 rows × 7 columns</p>\n",
       "</div>"
      ],
      "text/plain": [
       "            Date     Close     Volume      Open      High       Low  Dias\n",
       "0     2020-02-28  273.3600  106721200  257.2600  278.4100  256.3700  2517\n",
       "1     2020-02-27  273.5200   80151380  281.1000  286.0000  272.9600  2516\n",
       "2     2020-02-26  292.6500   49678430  286.5300  297.8800  286.5000  2515\n",
       "3     2020-02-25  288.0800   57668360  300.9500  302.5300  286.1300  2514\n",
       "4     2020-02-24  298.1800   55548830  297.2600  304.1800  289.2300  2513\n",
       "...          ...       ...        ...       ...       ...       ...   ...\n",
       "2513  2010-03-05   31.2786  224647427   30.7057   31.3857   30.6614     4\n",
       "2514  2010-03-04   30.1014   89591907   29.8971   30.1314   29.8043     3\n",
       "2515  2010-03-03   29.9043   92846488   29.8486   29.9814   29.7057     2\n",
       "2516  2010-03-02   29.8357  141486282   29.9900   30.1186   29.6771     1\n",
       "2517  2010-03-01   29.8557  137312041   29.3928   29.9286   29.3500     0\n",
       "\n",
       "[2518 rows x 7 columns]"
      ]
     },
     "execution_count": 7,
     "metadata": {},
     "output_type": "execute_result"
    }
   ],
   "source": [
    "# Vamos adicionar uma coluna \"Dias\" para representar os dias que se passaram desde a primeira acao\n",
    "aapl[\"Dias\"] = np.arange(2517, -1, -1)\n",
    "aapl"
   ]
  },
  {
   "cell_type": "markdown",
   "id": "6b7dedd9",
   "metadata": {},
   "source": [
    ">Quase pronto, porém ainda falta mais um passo. Como vamos usar dados cronológicos, é uma boa prática usar as dados em ordem ascendente. Então vamos ordenar nosso dataset."
   ]
  },
  {
   "cell_type": "code",
   "execution_count": 8,
   "id": "34459b57",
   "metadata": {},
   "outputs": [
    {
     "data": {
      "text/html": [
       "<div>\n",
       "<style scoped>\n",
       "    .dataframe tbody tr th:only-of-type {\n",
       "        vertical-align: middle;\n",
       "    }\n",
       "\n",
       "    .dataframe tbody tr th {\n",
       "        vertical-align: top;\n",
       "    }\n",
       "\n",
       "    .dataframe thead th {\n",
       "        text-align: right;\n",
       "    }\n",
       "</style>\n",
       "<table border=\"1\" class=\"dataframe\">\n",
       "  <thead>\n",
       "    <tr style=\"text-align: right;\">\n",
       "      <th></th>\n",
       "      <th>Date</th>\n",
       "      <th>Close</th>\n",
       "      <th>Volume</th>\n",
       "      <th>Open</th>\n",
       "      <th>High</th>\n",
       "      <th>Low</th>\n",
       "      <th>Dias</th>\n",
       "    </tr>\n",
       "  </thead>\n",
       "  <tbody>\n",
       "    <tr>\n",
       "      <th>0</th>\n",
       "      <td>2010-03-01</td>\n",
       "      <td>29.8557</td>\n",
       "      <td>137312041</td>\n",
       "      <td>29.3928</td>\n",
       "      <td>29.9286</td>\n",
       "      <td>29.3500</td>\n",
       "      <td>0</td>\n",
       "    </tr>\n",
       "    <tr>\n",
       "      <th>1</th>\n",
       "      <td>2010-03-02</td>\n",
       "      <td>29.8357</td>\n",
       "      <td>141486282</td>\n",
       "      <td>29.9900</td>\n",
       "      <td>30.1186</td>\n",
       "      <td>29.6771</td>\n",
       "      <td>1</td>\n",
       "    </tr>\n",
       "    <tr>\n",
       "      <th>2</th>\n",
       "      <td>2010-03-03</td>\n",
       "      <td>29.9043</td>\n",
       "      <td>92846488</td>\n",
       "      <td>29.8486</td>\n",
       "      <td>29.9814</td>\n",
       "      <td>29.7057</td>\n",
       "      <td>2</td>\n",
       "    </tr>\n",
       "    <tr>\n",
       "      <th>3</th>\n",
       "      <td>2010-03-04</td>\n",
       "      <td>30.1014</td>\n",
       "      <td>89591907</td>\n",
       "      <td>29.8971</td>\n",
       "      <td>30.1314</td>\n",
       "      <td>29.8043</td>\n",
       "      <td>3</td>\n",
       "    </tr>\n",
       "    <tr>\n",
       "      <th>4</th>\n",
       "      <td>2010-03-05</td>\n",
       "      <td>31.2786</td>\n",
       "      <td>224647427</td>\n",
       "      <td>30.7057</td>\n",
       "      <td>31.3857</td>\n",
       "      <td>30.6614</td>\n",
       "      <td>4</td>\n",
       "    </tr>\n",
       "    <tr>\n",
       "      <th>...</th>\n",
       "      <td>...</td>\n",
       "      <td>...</td>\n",
       "      <td>...</td>\n",
       "      <td>...</td>\n",
       "      <td>...</td>\n",
       "      <td>...</td>\n",
       "      <td>...</td>\n",
       "    </tr>\n",
       "    <tr>\n",
       "      <th>2513</th>\n",
       "      <td>2020-02-24</td>\n",
       "      <td>298.1800</td>\n",
       "      <td>55548830</td>\n",
       "      <td>297.2600</td>\n",
       "      <td>304.1800</td>\n",
       "      <td>289.2300</td>\n",
       "      <td>2513</td>\n",
       "    </tr>\n",
       "    <tr>\n",
       "      <th>2514</th>\n",
       "      <td>2020-02-25</td>\n",
       "      <td>288.0800</td>\n",
       "      <td>57668360</td>\n",
       "      <td>300.9500</td>\n",
       "      <td>302.5300</td>\n",
       "      <td>286.1300</td>\n",
       "      <td>2514</td>\n",
       "    </tr>\n",
       "    <tr>\n",
       "      <th>2515</th>\n",
       "      <td>2020-02-26</td>\n",
       "      <td>292.6500</td>\n",
       "      <td>49678430</td>\n",
       "      <td>286.5300</td>\n",
       "      <td>297.8800</td>\n",
       "      <td>286.5000</td>\n",
       "      <td>2515</td>\n",
       "    </tr>\n",
       "    <tr>\n",
       "      <th>2516</th>\n",
       "      <td>2020-02-27</td>\n",
       "      <td>273.5200</td>\n",
       "      <td>80151380</td>\n",
       "      <td>281.1000</td>\n",
       "      <td>286.0000</td>\n",
       "      <td>272.9600</td>\n",
       "      <td>2516</td>\n",
       "    </tr>\n",
       "    <tr>\n",
       "      <th>2517</th>\n",
       "      <td>2020-02-28</td>\n",
       "      <td>273.3600</td>\n",
       "      <td>106721200</td>\n",
       "      <td>257.2600</td>\n",
       "      <td>278.4100</td>\n",
       "      <td>256.3700</td>\n",
       "      <td>2517</td>\n",
       "    </tr>\n",
       "  </tbody>\n",
       "</table>\n",
       "<p>2518 rows × 7 columns</p>\n",
       "</div>"
      ],
      "text/plain": [
       "            Date     Close     Volume      Open      High       Low  Dias\n",
       "0     2010-03-01   29.8557  137312041   29.3928   29.9286   29.3500     0\n",
       "1     2010-03-02   29.8357  141486282   29.9900   30.1186   29.6771     1\n",
       "2     2010-03-03   29.9043   92846488   29.8486   29.9814   29.7057     2\n",
       "3     2010-03-04   30.1014   89591907   29.8971   30.1314   29.8043     3\n",
       "4     2010-03-05   31.2786  224647427   30.7057   31.3857   30.6614     4\n",
       "...          ...       ...        ...       ...       ...       ...   ...\n",
       "2513  2020-02-24  298.1800   55548830  297.2600  304.1800  289.2300  2513\n",
       "2514  2020-02-25  288.0800   57668360  300.9500  302.5300  286.1300  2514\n",
       "2515  2020-02-26  292.6500   49678430  286.5300  297.8800  286.5000  2515\n",
       "2516  2020-02-27  273.5200   80151380  281.1000  286.0000  272.9600  2516\n",
       "2517  2020-02-28  273.3600  106721200  257.2600  278.4100  256.3700  2517\n",
       "\n",
       "[2518 rows x 7 columns]"
      ]
     },
     "execution_count": 8,
     "metadata": {},
     "output_type": "execute_result"
    }
   ],
   "source": [
    "aapl = aapl.sort_index(ascending=False).reset_index(drop=True)\n",
    "aapl"
   ]
  },
  {
   "cell_type": "markdown",
   "id": "c01f3ab3",
   "metadata": {},
   "source": [
    "<a id=\"3\"></a>\n",
    "___\n",
    "# 3. Visualizacão dos Dados\n",
    "\n",
    "Agora que manipulamos os dados corretamente, vamos criar um gráfico cronológico visualiza-lo para comprender o nosso objetivo.\n",
    "\n",
    "Vamos definir nosso vetor \"X\" para representar os dias, poŕem, em vez de utilizar a data como as variáveis, vamos usar nossa coluna dos dias que se passaram.\n",
    "\n",
    "Vamos definir um vetor \"Y\" para representar o preço de fechamento das ações.\n",
    "\n",
    "E vamos também definir um vetor \"Z\", representando os volumes diários.\n",
    "<br><br>"
   ]
  },
  {
   "cell_type": "code",
   "execution_count": 9,
   "id": "63f3923f",
   "metadata": {},
   "outputs": [],
   "source": [
    "#Vamos criar uma coluna ascendente \n",
    "X = aapl[\"Date\"].copy()\n",
    "y = aapl[\"Close\"].copy()\n",
    "Z = aapl[\"Volume\"].copy()"
   ]
  },
  {
   "cell_type": "code",
   "execution_count": 10,
   "id": "ca07c625",
   "metadata": {
    "scrolled": true
   },
   "outputs": [
    {
     "data": {
      "image/png": "[encoded data removed]",
      "text/plain": [
       "<Figure size 1008x324 with 2 Axes>"
      ]
     },
     "metadata": {
      "needs_background": "light"
     },
     "output_type": "display_data"
    }
   ],
   "source": [
    "#Usando a biblioteca Matplotlib, vamos plotar o preço de fechamento e o volume para entender melhor nosso dataset.\n",
    "\n",
    "fig, ax = plt.subplots(2, 1, gridspec_kw={'height_ratios': [6, 1]}, num=\"1\")\n",
    "ax1, ax2 = ax\n",
    "\n",
    "ax1.plot(X, y, label=\"Preço de Fechamento\")\n",
    "ax1.fill_between(X, 0, y, alpha=0.6)\n",
    "ax1.get_xaxis().set_visible(False)\n",
    "ax1.set_title(\"AAPL - Preço de Fechamento\", fontsize = 20)\n",
    "ax1.set_xlim(min(X))\n",
    "ax1.set_ylabel(\"Dólares\")\n",
    "\n",
    "ax2.plot(X, Z,c=\"g\", label=\"Volume\")\n",
    "ax2.fill_between(X, 0, Z, color=\"lightgreen\")\n",
    "ax2.set_xlim(min(X))\n",
    "ax2.set_yscale('log',base=2)\n",
    "ax2.legend(fontsize=14)\n",
    "\n",
    "plt.xlabel(\"Data\")\n",
    "\n",
    "plt.tight_layout(pad=0)"
   ]
  },
  {
   "cell_type": "markdown",
   "id": "2462f492",
   "metadata": {},
   "source": [
    "<a id=\"4\"></a>\n",
    "___\n",
    "# 4. Construindo Nosso Primeiro Modelo de Regressão\n",
    "\n",
    "A partir desse gráfico vamos construir um Modelo de Regressão, ou seja, vamos criar uma linha que segue o padrão do nosso gráfico. \n",
    "\n",
    "Para criar uma linha reta, dado dois vetores, a equação é a seguinte:\n",
    "\n",
    "# <center> $h(X) = mX + b$ </center>\n",
    "\n",
    "\n",
    "- ***h(x)*** - função linear que retorna o vetor $\\bf{\\hat{y}}$, que é o vetor previsão.\n",
    "- **X** - vetor de variáveis independentes.\n",
    "- **m** - coeficiente angular da reta. - *Controla a inclinação*\n",
    "- **b** - coeficente linear da reta.   - *Controla a altura, ou seja, onde a reta cruza o eixo* ***y***.\n",
    "---\n",
    "Apos criar uma reta que melhor corresponde a relação entre o vetor **X**(\"Data\") e o vetor **y**(\"Preço de Fechamento\"), podemos usar a nossa equação da reta, para descobrir o \"Preço de Fechamento\" apenas aplicando a\n",
    "\"Data\" nessa equação."
   ]
  },
  {
   "cell_type": "markdown",
   "id": "c26f6b73",
   "metadata": {},
   "source": [
    "___\n",
    "### Para encontrar a inclinação, usamos a  fórmula do coeficiente angular:\n",
    "\n",
    "# <center>$m = \\frac{y_{1} - y_{0}}{x_{1} - x_{0}}$</center>\n"
   ]
  },
  {
   "cell_type": "code",
   "execution_count": 11,
   "id": "c5520ed0",
   "metadata": {},
   "outputs": [
    {
     "data": {
      "text/plain": [
       "(0, 29.8557, 2517, 273.36)"
      ]
     },
     "execution_count": 11,
     "metadata": {},
     "output_type": "execute_result"
    }
   ],
   "source": [
    "# A partir de agora, como vamos fazer alguns calculos com vetores, vamos definir o vetor \"X\"\n",
    "# como a quantidade de dias passados, pois valores datetime64 nao podem ser operados\n",
    "X = aapl[\"Dias\"].copy()\n",
    "\n",
    "x0 = X[0] #dia 0\n",
    "y0 =  y[0] #primeiro preco\n",
    "\n",
    "x1 = X.iloc[-1] #dias passados no ultimo dia\n",
    "y1 = y.iloc[-1] #ultimo preco\n",
    "\n",
    "x0,y0, x1, y1"
   ]
  },
  {
   "cell_type": "code",
   "execution_count": 12,
   "id": "98922aa3",
   "metadata": {},
   "outputs": [
    {
     "name": "stdout",
     "output_type": "stream",
     "text": [
      "\n",
      "m = 0.09674386174016686\n"
     ]
    }
   ],
   "source": [
    "# Vamos escrever uma função para a fórmula do coeficiente angular\n",
    "\n",
    "def coef_angular(x1, x0, y1, y0):\n",
    "    m = (y1-y0)/(x1-x0)\n",
    "    return m\n",
    "\n",
    "m = coef_angular(x1, x0, y1, y0)\n",
    "\n",
    "print(\"\\nm =\",  m)"
   ]
  },
  {
   "cell_type": "markdown",
   "id": "c30dc720",
   "metadata": {},
   "source": [
    "___\n",
    "### Para computar o coeficiente linear, usamos a função da reta com o nosso coeficiente angular encontrado.\n",
    "\n",
    "*Como ***b*** é onde a reta cruza o eixo **y**, ou seja, onde **X** equivale a 0.*\n",
    "\n",
    "### Logo:\n",
    "\n",
    "# <center> $y_{0} = mx_{0} + b$ </center>\n",
    "# <center> $b = y_{0} - mx_{0}$ </center>"
   ]
  },
  {
   "cell_type": "code",
   "execution_count": 36,
   "id": "89ef8fc9",
   "metadata": {},
   "outputs": [
    {
     "name": "stdout",
     "output_type": "stream",
     "text": [
      "\n",
      "b =  29.8557\n"
     ]
    }
   ],
   "source": [
    "# Vamos escrever uma função para a fórmula do coeficiente linear \n",
    "\n",
    "def coef_linear(y0, m, x0):\n",
    "    b = y0 - m * x0\n",
    "    return b\n",
    "\n",
    "b = coef_linear(y0, m, x0)\n",
    "\n",
    "print(\"\\nb = \",  b)"
   ]
  },
  {
   "cell_type": "markdown",
   "id": "18ff2f63",
   "metadata": {},
   "source": [
    "> *Neste caso, como começamos a nossa linha a partir do ponto 0, ou seja $x_{0} = 0$, ***b*** é igual a $y_{0}$.*\n",
    "\n",
    "___\n",
    "### Com ***m*** e ***b*** em mãos, podemos criar uma função reta que segue a tendencia do primeiro e último preço.\n",
    "<br></br>"
   ]
  },
  {
   "cell_type": "code",
   "execution_count": 37,
   "id": "7c69a586",
   "metadata": {},
   "outputs": [],
   "source": [
    "def funcao_linear(X, m, b):\n",
    "    return m*X + b"
   ]
  },
  {
   "cell_type": "markdown",
   "id": "9f6b6762",
   "metadata": {},
   "source": [
    "<br></br>\n",
    ">Com a função contruída, podemos utiliza-la para transformar nosso vetor **X** e ter uma representação de como seriam os nossos preços, caso todos eles seguissem a tendência do primeiro e último preço.\n"
   ]
  },
  {
   "cell_type": "code",
   "execution_count": 38,
   "id": "a1e43a75",
   "metadata": {
    "scrolled": false
   },
   "outputs": [
    {
     "data": {
      "text/plain": [
       "0        29.855700\n",
       "1        29.952444\n",
       "2        30.049188\n",
       "3        30.145932\n",
       "4        30.242675\n",
       "           ...    \n",
       "2513    272.973025\n",
       "2514    273.069768\n",
       "2515    273.166512\n",
       "2516    273.263256\n",
       "2517    273.360000\n",
       "Name: Dias, Length: 2518, dtype: float64"
      ]
     },
     "execution_count": 38,
     "metadata": {},
     "output_type": "execute_result"
    }
   ],
   "source": [
    "x0xn = funcao_linear(X, m, b) #Vamos chamar os valores tranformados em x0xn\n",
    "x0xn"
   ]
  },
  {
   "cell_type": "markdown",
   "id": "0287c23b",
   "metadata": {},
   "source": [
    "<br></br>\n",
    "### Vamos criar uma tabela para comparar nossas previsões e os valores reais."
   ]
  },
  {
   "cell_type": "code",
   "execution_count": 39,
   "id": "a770d26b",
   "metadata": {},
   "outputs": [
    {
     "data": {
      "text/html": [
       "<div>\n",
       "<style scoped>\n",
       "    .dataframe tbody tr th:only-of-type {\n",
       "        vertical-align: middle;\n",
       "    }\n",
       "\n",
       "    .dataframe tbody tr th {\n",
       "        vertical-align: top;\n",
       "    }\n",
       "\n",
       "    .dataframe thead th {\n",
       "        text-align: right;\n",
       "    }\n",
       "</style>\n",
       "<table border=\"1\" class=\"dataframe\">\n",
       "  <thead>\n",
       "    <tr style=\"text-align: right;\">\n",
       "      <th></th>\n",
       "      <th>Previsto</th>\n",
       "      <th>Real</th>\n",
       "    </tr>\n",
       "  </thead>\n",
       "  <tbody>\n",
       "    <tr>\n",
       "      <th>0</th>\n",
       "      <td>29.855700</td>\n",
       "      <td>29.8557</td>\n",
       "    </tr>\n",
       "    <tr>\n",
       "      <th>1</th>\n",
       "      <td>29.952444</td>\n",
       "      <td>29.8357</td>\n",
       "    </tr>\n",
       "    <tr>\n",
       "      <th>2</th>\n",
       "      <td>30.049188</td>\n",
       "      <td>29.9043</td>\n",
       "    </tr>\n",
       "    <tr>\n",
       "      <th>3</th>\n",
       "      <td>30.145932</td>\n",
       "      <td>30.1014</td>\n",
       "    </tr>\n",
       "    <tr>\n",
       "      <th>4</th>\n",
       "      <td>30.242675</td>\n",
       "      <td>31.2786</td>\n",
       "    </tr>\n",
       "    <tr>\n",
       "      <th>...</th>\n",
       "      <td>...</td>\n",
       "      <td>...</td>\n",
       "    </tr>\n",
       "    <tr>\n",
       "      <th>2513</th>\n",
       "      <td>272.973025</td>\n",
       "      <td>298.1800</td>\n",
       "    </tr>\n",
       "    <tr>\n",
       "      <th>2514</th>\n",
       "      <td>273.069768</td>\n",
       "      <td>288.0800</td>\n",
       "    </tr>\n",
       "    <tr>\n",
       "      <th>2515</th>\n",
       "      <td>273.166512</td>\n",
       "      <td>292.6500</td>\n",
       "    </tr>\n",
       "    <tr>\n",
       "      <th>2516</th>\n",
       "      <td>273.263256</td>\n",
       "      <td>273.5200</td>\n",
       "    </tr>\n",
       "    <tr>\n",
       "      <th>2517</th>\n",
       "      <td>273.360000</td>\n",
       "      <td>273.3600</td>\n",
       "    </tr>\n",
       "  </tbody>\n",
       "</table>\n",
       "<p>2518 rows × 2 columns</p>\n",
       "</div>"
      ],
      "text/plain": [
       "        Previsto      Real\n",
       "0      29.855700   29.8557\n",
       "1      29.952444   29.8357\n",
       "2      30.049188   29.9043\n",
       "3      30.145932   30.1014\n",
       "4      30.242675   31.2786\n",
       "...          ...       ...\n",
       "2513  272.973025  298.1800\n",
       "2514  273.069768  288.0800\n",
       "2515  273.166512  292.6500\n",
       "2516  273.263256  273.5200\n",
       "2517  273.360000  273.3600\n",
       "\n",
       "[2518 rows x 2 columns]"
      ]
     },
     "execution_count": 39,
     "metadata": {},
     "output_type": "execute_result"
    }
   ],
   "source": [
    "comp = pd.DataFrame({\"Previsto\": x0xn,  \"Real\": y})\n",
    "comp"
   ]
  },
  {
   "cell_type": "markdown",
   "id": "decc2ff8",
   "metadata": {},
   "source": [
    "<br></br>\n",
    ">Geramos uma função que recebe os dias passados e nos retorna os valores das ações com base na relação entre o primeiro e último preço.<br></br>\n",
    "Então, se pararmos pra pensar, essa função, além de nos retornar os preços com base nos dias contidos do dataset, também pode ser usada para retornar os preços nos dias futuros, que não temos.\n",
    "\n",
    "### Então, vamos experimentar usar essa função para prever os valores nos dias futuros.\n",
    "\n",
    "<br>"
   ]
  },
  {
   "cell_type": "code",
   "execution_count": 40,
   "id": "6e2c936b",
   "metadata": {
    "scrolled": true
   },
   "outputs": [
    {
     "data": {
      "text/plain": [
       "array([2518, 2519, 2520, 2521, 2522, 2523, 2524, 2525, 2526, 2527, 2528,\n",
       "       2529, 2530, 2531, 2532, 2533, 2534, 2535, 2536, 2537, 2538, 2539,\n",
       "       2540, 2541, 2542, 2543, 2544, 2545, 2546, 2547, 2548, 2549, 2550,\n",
       "       2551, 2552, 2553, 2554, 2555, 2556, 2557, 2558, 2559, 2560, 2561,\n",
       "       2562, 2563, 2564, 2565, 2566, 2567, 2568, 2569, 2570, 2571, 2572,\n",
       "       2573, 2574, 2575, 2576, 2577, 2578, 2579, 2580, 2581, 2582, 2583,\n",
       "       2584, 2585, 2586, 2587, 2588, 2589, 2590, 2591, 2592, 2593, 2594,\n",
       "       2595, 2596, 2597, 2598, 2599, 2600, 2601, 2602, 2603, 2604, 2605,\n",
       "       2606, 2607, 2608, 2609, 2610, 2611, 2612, 2613, 2614, 2615, 2616,\n",
       "       2617, 2618, 2619, 2620, 2621, 2622, 2623, 2624, 2625, 2626, 2627,\n",
       "       2628, 2629, 2630, 2631, 2632, 2633, 2634, 2635, 2636, 2637, 2638,\n",
       "       2639, 2640, 2641, 2642, 2643, 2644, 2645, 2646, 2647, 2648, 2649,\n",
       "       2650, 2651, 2652, 2653, 2654, 2655, 2656, 2657, 2658, 2659, 2660,\n",
       "       2661, 2662, 2663, 2664, 2665, 2666, 2667, 2668, 2669, 2670, 2671,\n",
       "       2672, 2673, 2674, 2675, 2676, 2677, 2678, 2679, 2680, 2681, 2682,\n",
       "       2683, 2684, 2685, 2686, 2687, 2688, 2689, 2690, 2691, 2692, 2693,\n",
       "       2694, 2695, 2696, 2697, 2698, 2699, 2700, 2701, 2702, 2703, 2704,\n",
       "       2705, 2706, 2707, 2708, 2709, 2710, 2711, 2712, 2713, 2714, 2715,\n",
       "       2716, 2717, 2718, 2719, 2720, 2721, 2722, 2723, 2724, 2725, 2726,\n",
       "       2727, 2728, 2729, 2730, 2731, 2732, 2733, 2734, 2735, 2736, 2737,\n",
       "       2738, 2739, 2740, 2741, 2742, 2743, 2744, 2745, 2746, 2747, 2748,\n",
       "       2749, 2750, 2751, 2752, 2753, 2754, 2755, 2756, 2757, 2758, 2759,\n",
       "       2760, 2761, 2762, 2763, 2764, 2765, 2766, 2767, 2768, 2769, 2770,\n",
       "       2771, 2772, 2773, 2774, 2775, 2776, 2777, 2778, 2779, 2780, 2781,\n",
       "       2782, 2783, 2784, 2785, 2786, 2787, 2788, 2789, 2790, 2791, 2792,\n",
       "       2793, 2794, 2795, 2796, 2797, 2798, 2799, 2800, 2801, 2802, 2803,\n",
       "       2804, 2805, 2806, 2807, 2808, 2809, 2810, 2811, 2812, 2813, 2814,\n",
       "       2815, 2816, 2817, 2818, 2819, 2820, 2821, 2822, 2823, 2824, 2825,\n",
       "       2826, 2827, 2828, 2829, 2830, 2831, 2832, 2833, 2834, 2835, 2836,\n",
       "       2837, 2838, 2839, 2840, 2841, 2842, 2843, 2844, 2845, 2846, 2847,\n",
       "       2848, 2849, 2850, 2851, 2852, 2853, 2854, 2855, 2856, 2857, 2858,\n",
       "       2859, 2860, 2861, 2862, 2863, 2864, 2865, 2866, 2867, 2868, 2869,\n",
       "       2870, 2871, 2872, 2873, 2874, 2875, 2876, 2877, 2878, 2879, 2880,\n",
       "       2881])"
      ]
     },
     "execution_count": 40,
     "metadata": {},
     "output_type": "execute_result"
    }
   ],
   "source": [
    "# Vamos criar um vetor para os dias futuros, que não estão em nosso dataset.\n",
    "# Se x1 é o último dia, o próximo dia futuro seria x1+1, vamos chama-lo de x2\n",
    "\n",
    "x2 = x1+1\n",
    "\n",
    "# Invéz de usar apenas um valor, vamos usar um conjunto de dias futuros, por exemplo\n",
    "# Vamos usar um conjunto de 1 ano à frente do último dia\n",
    "# Vamos chamar de x3, o valor de 1 ano após x1\n",
    "\n",
    "x3 = x1+365\n",
    "\n",
    "# Agora vamos criar um vetor contendo todos os dias do próximo ano\n",
    "dias_futuros = np.arange(x2, x3)\n",
    "dias_futuros"
   ]
  },
  {
   "cell_type": "markdown",
   "id": "4f4a98c3",
   "metadata": {},
   "source": [
    "<br></br>\n",
    ">Podemos usar esse vetor que criamos e transforma-lo usando a nossa Função Linear para obtermos uma predição dos valores com base nessa função."
   ]
  },
  {
   "cell_type": "code",
   "execution_count": 41,
   "id": "4b624c9c",
   "metadata": {},
   "outputs": [
    {
     "data": {
      "text/plain": [
       "array([273.45674386, 273.55348772, 273.65023159, 273.74697545,\n",
       "       273.84371931, 273.94046317, 274.03720703, 274.13395089,\n",
       "       274.23069476, 274.32743862, 274.42418248, 274.52092634,\n",
       "       274.6176702 , 274.71441406, 274.81115793, 274.90790179,\n",
       "       275.00464565, 275.10138951, 275.19813337, 275.29487723,\n",
       "       275.3916211 , 275.48836496, 275.58510882, 275.68185268,\n",
       "       275.77859654, 275.87534041, 275.97208427, 276.06882813,\n",
       "       276.16557199, 276.26231585, 276.35905971, 276.45580358,\n",
       "       276.55254744, 276.6492913 , 276.74603516, 276.84277902,\n",
       "       276.93952288, 277.03626675, 277.13301061, 277.22975447,\n",
       "       277.32649833, 277.42324219, 277.51998605, 277.61672992,\n",
       "       277.71347378, 277.81021764, 277.9069615 , 278.00370536,\n",
       "       278.10044923, 278.19719309, 278.29393695, 278.39068081,\n",
       "       278.48742467, 278.58416853, 278.6809124 , 278.77765626,\n",
       "       278.87440012, 278.97114398, 279.06788784, 279.1646317 ,\n",
       "       279.26137557, 279.35811943, 279.45486329, 279.55160715,\n",
       "       279.64835101, 279.74509487, 279.84183874, 279.9385826 ,\n",
       "       280.03532646, 280.13207032, 280.22881418, 280.32555805,\n",
       "       280.42230191, 280.51904577, 280.61578963, 280.71253349,\n",
       "       280.80927735, 280.90602122, 281.00276508, 281.09950894,\n",
       "       281.1962528 , 281.29299666, 281.38974052, 281.48648439,\n",
       "       281.58322825, 281.67997211, 281.77671597, 281.87345983,\n",
       "       281.97020369, 282.06694756, 282.16369142, 282.26043528,\n",
       "       282.35717914, 282.453923  , 282.55066687, 282.64741073,\n",
       "       282.74415459, 282.84089845, 282.93764231, 283.03438617,\n",
       "       283.13113004, 283.2278739 , 283.32461776, 283.42136162,\n",
       "       283.51810548, 283.61484934, 283.71159321, 283.80833707,\n",
       "       283.90508093, 284.00182479, 284.09856865, 284.19531251,\n",
       "       284.29205638, 284.38880024, 284.4855441 , 284.58228796,\n",
       "       284.67903182, 284.77577569, 284.87251955, 284.96926341,\n",
       "       285.06600727, 285.16275113, 285.25949499, 285.35623886,\n",
       "       285.45298272, 285.54972658, 285.64647044, 285.7432143 ,\n",
       "       285.83995816, 285.93670203, 286.03344589, 286.13018975,\n",
       "       286.22693361, 286.32367747, 286.42042133, 286.5171652 ,\n",
       "       286.61390906, 286.71065292, 286.80739678, 286.90414064,\n",
       "       287.00088451, 287.09762837, 287.19437223, 287.29111609,\n",
       "       287.38785995, 287.48460381, 287.58134768, 287.67809154,\n",
       "       287.7748354 , 287.87157926, 287.96832312, 288.06506698,\n",
       "       288.16181085, 288.25855471, 288.35529857, 288.45204243,\n",
       "       288.54878629, 288.64553015, 288.74227402, 288.83901788,\n",
       "       288.93576174, 289.0325056 , 289.12924946, 289.22599333,\n",
       "       289.32273719, 289.41948105, 289.51622491, 289.61296877,\n",
       "       289.70971263, 289.8064565 , 289.90320036, 289.99994422,\n",
       "       290.09668808, 290.19343194, 290.2901758 , 290.38691967,\n",
       "       290.48366353, 290.58040739, 290.67715125, 290.77389511,\n",
       "       290.87063897, 290.96738284, 291.0641267 , 291.16087056,\n",
       "       291.25761442, 291.35435828, 291.45110215, 291.54784601,\n",
       "       291.64458987, 291.74133373, 291.83807759, 291.93482145,\n",
       "       292.03156532, 292.12830918, 292.22505304, 292.3217969 ,\n",
       "       292.41854076, 292.51528462, 292.61202849, 292.70877235,\n",
       "       292.80551621, 292.90226007, 292.99900393, 293.09574779,\n",
       "       293.19249166, 293.28923552, 293.38597938, 293.48272324,\n",
       "       293.5794671 , 293.67621097, 293.77295483, 293.86969869,\n",
       "       293.96644255, 294.06318641, 294.15993027, 294.25667414,\n",
       "       294.353418  , 294.45016186, 294.54690572, 294.64364958,\n",
       "       294.74039344, 294.83713731, 294.93388117, 295.03062503,\n",
       "       295.12736889, 295.22411275, 295.32085662, 295.41760048,\n",
       "       295.51434434, 295.6110882 , 295.70783206, 295.80457592,\n",
       "       295.90131979, 295.99806365, 296.09480751, 296.19155137,\n",
       "       296.28829523, 296.38503909, 296.48178296, 296.57852682,\n",
       "       296.67527068, 296.77201454, 296.8687584 , 296.96550226,\n",
       "       297.06224613, 297.15898999, 297.25573385, 297.35247771,\n",
       "       297.44922157, 297.54596544, 297.6427093 , 297.73945316,\n",
       "       297.83619702, 297.93294088, 298.02968474, 298.12642861,\n",
       "       298.22317247, 298.31991633, 298.41666019, 298.51340405,\n",
       "       298.61014791, 298.70689178, 298.80363564, 298.9003795 ,\n",
       "       298.99712336, 299.09386722, 299.19061108, 299.28735495,\n",
       "       299.38409881, 299.48084267, 299.57758653, 299.67433039,\n",
       "       299.77107426, 299.86781812, 299.96456198, 300.06130584,\n",
       "       300.1580497 , 300.25479356, 300.35153743, 300.44828129,\n",
       "       300.54502515, 300.64176901, 300.73851287, 300.83525673,\n",
       "       300.9320006 , 301.02874446, 301.12548832, 301.22223218,\n",
       "       301.31897604, 301.4157199 , 301.51246377, 301.60920763,\n",
       "       301.70595149, 301.80269535, 301.89943921, 301.99618308,\n",
       "       302.09292694, 302.1896708 , 302.28641466, 302.38315852,\n",
       "       302.47990238, 302.57664625, 302.67339011, 302.77013397,\n",
       "       302.86687783, 302.96362169, 303.06036555, 303.15710942,\n",
       "       303.25385328, 303.35059714, 303.447341  , 303.54408486,\n",
       "       303.64082872, 303.73757259, 303.83431645, 303.93106031,\n",
       "       304.02780417, 304.12454803, 304.2212919 , 304.31803576,\n",
       "       304.41477962, 304.51152348, 304.60826734, 304.7050112 ,\n",
       "       304.80175507, 304.89849893, 304.99524279, 305.09198665,\n",
       "       305.18873051, 305.28547437, 305.38221824, 305.4789621 ,\n",
       "       305.57570596, 305.67244982, 305.76919368, 305.86593754,\n",
       "       305.96268141, 306.05942527, 306.15616913, 306.25291299,\n",
       "       306.34965685, 306.44640072, 306.54314458, 306.63988844,\n",
       "       306.7366323 , 306.83337616, 306.93012002, 307.02686389,\n",
       "       307.12360775, 307.22035161, 307.31709547, 307.41383933,\n",
       "       307.51058319, 307.60732706, 307.70407092, 307.80081478,\n",
       "       307.89755864, 307.9943025 , 308.09104636, 308.18779023,\n",
       "       308.28453409, 308.38127795, 308.47802181, 308.57476567])"
      ]
     },
     "execution_count": 41,
     "metadata": {},
     "output_type": "execute_result"
    }
   ],
   "source": [
    "pred = funcao_linear(dias_futuros, m, b) #nossas predições\n",
    "pred"
   ]
  },
  {
   "cell_type": "markdown",
   "id": "f0f7d818",
   "metadata": {},
   "source": [
    "<br></br>\n",
    ">Até agora, tudo certo, conseguimos construir uma função que pode nos ajudar a prever os valores das ações da Apple com base no primeiro e último valor observado. Porém é um pouco difícil analizar aos valores reais e previstos apenas observando os números.\n",
    "\n",
    "<br></br>\n",
    "#### Observemos abaixo os valores reais e previstos no gráfico:\n"
   ]
  },
  {
   "cell_type": "code",
   "execution_count": 42,
   "id": "e573c6bc",
   "metadata": {
    "scrolled": true
   },
   "outputs": [
    {
     "data": {
      "image/png": "[encoded data removed]",
      "text/plain": [
       "<Figure size 1008x324 with 1 Axes>"
      ]
     },
     "metadata": {
      "needs_background": "light"
     },
     "output_type": "display_data"
    }
   ],
   "source": [
    "fig = plt.figure(\"2\")\n",
    "ax = plt.gca()\n",
    "\n",
    "\n",
    "plt.title(\"AAPL - Preço de Fechamento\", fontsize = 20)\n",
    "\n",
    "plt.plot(X, y, label=\"Preço de Fechamento\")\n",
    "plt.plot(X ,x0xn, \"r\", label=\"Reta $x_{0}x_{n}$\")\n",
    "plt.plot(dias_futuros, pred, \"purple\", ls=\"--\", label=\"Previsões\")\n",
    "\n",
    "\n",
    "plt.plot(x1, x0xn.iloc[-1], \"bo\")\n",
    "plt.text(x1, x0xn.iloc[-1], f\"${x0xn[0]:.2f}\", verticalalignment=\"top\")\n",
    "\n",
    "plt.vlines(dias_futuros[-1], -10, pred[-1], colors= \"purple\", ls=\"--\", alpha=0.7)\n",
    "plt.plot(dias_futuros[-1], pred[-1], \"bo\")\n",
    "plt.text(dias_futuros[-1], pred[-1], f\"${pred[-1]:.2f}\", verticalalignment=\"bottom\")\n",
    "\n",
    "plt.fill_between(X, y, x0xn, color=\"purple\", alpha=0.2)\n",
    "plt.axis([0, 3000, 0, 350])\n",
    "\n",
    "\n",
    "plt.legend()\n",
    "ax.set_xticks(X[::-350])\n",
    "ax.set_xticklabels(aapl[\"Date\"][::-350])\n",
    "plt.tight_layout(pad=0.1)"
   ]
  },
  {
   "cell_type": "markdown",
   "id": "4831a1e9",
   "metadata": {},
   "source": [
    "## Pronto!\n",
    "<br>\n",
    "Contruimos o nosso primeiro algoritmo de Regressão. Porém ele não parece ser muito convincente, pois utilizamos apenas as relação entre a primeira e a ultima amostra do nosso dataset. Podemos notar que há uma grande distancia na maioria dos dias entre a os preços reais e a nossa simples reta.<br></br>\n",
    "Ou talvez ele seja perfeito, talvez a partir do último ponto, a linha dos preços siga exatamente a direção da linha que contruimos. Mesmo que não pareça provável, não há como saber com certeza, pois não sabemos o que acontece apos o último dia contido em nosso dataset. Então como eu posso avaliar uma previsão sem saber o resultado?<br></br>\n",
    "Nesse caso, devemos usar um método de avalição \"Treino e Teste\". Esse método consiste em dividir meus dados em conjuntos de \"Treino\" e outro conjunto de \"Teste\". Utilizamos o conhunto de treino para formar o nosso modelo, ou seja, treina-lo, e em seguida, uso os dados de teste, cujo resultado já sabemos, para poder avaliar nosso modelo, sem precisar esperar dias para receber novas informações de preço e avalia-lo.<br></br>\n",
    "\n",
    "#### Vamos então dividir nosso modelo e avaliá-lo.\n",
    "\n",
    "___"
   ]
  },
  {
   "cell_type": "code",
   "execution_count": 43,
   "id": "265a9b5a",
   "metadata": {},
   "outputs": [],
   "source": [
    "#Vamos dividir o conjunto de treino ate a linha 2049, o resto se torna conjunto de teste\n",
    "X_train, X_test, y_train, y_test = (X[:2250].reset_index(drop=True),\n",
    "                                    X[2250:].reset_index(drop=True),\n",
    "                                    y[:2250].reset_index(drop=True),\n",
    "                                    y[2250:].reset_index(drop=True))"
   ]
  },
  {
   "cell_type": "code",
   "execution_count": 44,
   "id": "8d55b163",
   "metadata": {},
   "outputs": [
    {
     "name": "stdout",
     "output_type": "stream",
     "text": [
      "m = 0.06417265451311693\n",
      "b = 29.8557\n"
     ]
    }
   ],
   "source": [
    "#Agora vamos criar uma nova reta, porem com o primeiro e ultimo valores do conjunto de treino\n",
    "#Primeiro precisamos de uma funcao para descobriros coeficientes: m e b\n",
    "\n",
    "def coef(X, y):\n",
    "    x0, x1 = X[0], X.iloc[-1]\n",
    "    y0, y1 = y[0], y.iloc[-1]\n",
    "    \n",
    "    m = (y1-y0)/(x1-x0)\n",
    "    b = y0 - m*x0\n",
    "    \n",
    "    return m, b\n",
    "\n",
    "m, b = coef(X_train, y_train)\n",
    "print(f\"m = {m}\\nb = {b}\") "
   ]
  },
  {
   "cell_type": "code",
   "execution_count": 46,
   "id": "d3a4f0ae",
   "metadata": {
    "scrolled": true
   },
   "outputs": [
    {
     "data": {
      "text/html": [
       "<div>\n",
       "<style scoped>\n",
       "    .dataframe tbody tr th:only-of-type {\n",
       "        vertical-align: middle;\n",
       "    }\n",
       "\n",
       "    .dataframe tbody tr th {\n",
       "        vertical-align: top;\n",
       "    }\n",
       "\n",
       "    .dataframe thead th {\n",
       "        text-align: right;\n",
       "    }\n",
       "</style>\n",
       "<table border=\"1\" class=\"dataframe\">\n",
       "  <thead>\n",
       "    <tr style=\"text-align: right;\">\n",
       "      <th></th>\n",
       "      <th>Previsto</th>\n",
       "      <th>Real</th>\n",
       "      <th>Data</th>\n",
       "    </tr>\n",
       "  </thead>\n",
       "  <tbody>\n",
       "    <tr>\n",
       "      <th>0</th>\n",
       "      <td>174.244173</td>\n",
       "      <td>174.24</td>\n",
       "      <td>2019-02-06</td>\n",
       "    </tr>\n",
       "    <tr>\n",
       "      <th>1</th>\n",
       "      <td>174.308345</td>\n",
       "      <td>170.94</td>\n",
       "      <td>2019-02-07</td>\n",
       "    </tr>\n",
       "    <tr>\n",
       "      <th>2</th>\n",
       "      <td>174.372518</td>\n",
       "      <td>170.41</td>\n",
       "      <td>2019-02-08</td>\n",
       "    </tr>\n",
       "    <tr>\n",
       "      <th>3</th>\n",
       "      <td>174.436691</td>\n",
       "      <td>169.43</td>\n",
       "      <td>2019-02-11</td>\n",
       "    </tr>\n",
       "    <tr>\n",
       "      <th>4</th>\n",
       "      <td>174.500863</td>\n",
       "      <td>170.89</td>\n",
       "      <td>2019-02-12</td>\n",
       "    </tr>\n",
       "    <tr>\n",
       "      <th>...</th>\n",
       "      <td>...</td>\n",
       "      <td>...</td>\n",
       "      <td>...</td>\n",
       "    </tr>\n",
       "    <tr>\n",
       "      <th>263</th>\n",
       "      <td>191.121581</td>\n",
       "      <td>298.18</td>\n",
       "      <td>2020-02-24</td>\n",
       "    </tr>\n",
       "    <tr>\n",
       "      <th>264</th>\n",
       "      <td>191.185753</td>\n",
       "      <td>288.08</td>\n",
       "      <td>2020-02-25</td>\n",
       "    </tr>\n",
       "    <tr>\n",
       "      <th>265</th>\n",
       "      <td>191.249926</td>\n",
       "      <td>292.65</td>\n",
       "      <td>2020-02-26</td>\n",
       "    </tr>\n",
       "    <tr>\n",
       "      <th>266</th>\n",
       "      <td>191.314099</td>\n",
       "      <td>273.52</td>\n",
       "      <td>2020-02-27</td>\n",
       "    </tr>\n",
       "    <tr>\n",
       "      <th>267</th>\n",
       "      <td>191.378271</td>\n",
       "      <td>273.36</td>\n",
       "      <td>2020-02-28</td>\n",
       "    </tr>\n",
       "  </tbody>\n",
       "</table>\n",
       "<p>268 rows × 3 columns</p>\n",
       "</div>"
      ],
      "text/plain": [
       "       Previsto    Real        Data\n",
       "0    174.244173  174.24  2019-02-06\n",
       "1    174.308345  170.94  2019-02-07\n",
       "2    174.372518  170.41  2019-02-08\n",
       "3    174.436691  169.43  2019-02-11\n",
       "4    174.500863  170.89  2019-02-12\n",
       "..          ...     ...         ...\n",
       "263  191.121581  298.18  2020-02-24\n",
       "264  191.185753  288.08  2020-02-25\n",
       "265  191.249926  292.65  2020-02-26\n",
       "266  191.314099  273.52  2020-02-27\n",
       "267  191.378271  273.36  2020-02-28\n",
       "\n",
       "[268 rows x 3 columns]"
      ]
     },
     "execution_count": 46,
     "metadata": {},
     "output_type": "execute_result"
    }
   ],
   "source": [
    "#Usando a funcao linear para obter as previsoes do teste\n",
    "y_pred = funcao_linear(X_test, m, b)\n",
    "\n",
    "#Comparando as previsoes do teste com os resultados reais(y_test)\n",
    "comparacao = pd.DataFrame({\"Previsto\": y_pred,  \"Real\": y_test})\n",
    "comparacao[\"Data\"] = aapl[\"Date\"].iloc[2250:].reset_index(drop=True)\n",
    "comparacao"
   ]
  },
  {
   "cell_type": "code",
   "execution_count": 48,
   "id": "119cf01e",
   "metadata": {},
   "outputs": [
    {
     "data": {
      "image/png": "[encoded data removed]",
      "text/plain": [
       "<Figure size 1008x324 with 1 Axes>"
      ]
     },
     "metadata": {
      "needs_background": "light"
     },
     "output_type": "display_data"
    }
   ],
   "source": [
    "comparacao.plot()\n",
    "plt.title(\"Previsão - Primeiro Modelo\", fontdict={\"fontsize\":20})\n",
    "plt.fill_between(np.arange(0, 268), comparacao[\"Real\"], comparacao[\"Previsto\"], alpha=0.2)\n",
    "plt.tight_layout()"
   ]
  },
  {
   "cell_type": "markdown",
   "id": "464d3315",
   "metadata": {},
   "source": [
    "<a id=\"5\"></a>\n",
    "___\n",
    "# 5. Avaliando Modelos de Regressão\n",
    "\n",
    "Primeiramente, antes de desenvolvermos outros algorítmos, vamos definir nossas métricas, conhecidas como funções de custo, para podermos analizar matemáticamente nossos resultados e apoior nosso julgamento. Avaliar nosso primeiro modelo nos da uma boa métrica de comparação.\n",
    "\n",
    "Algumas métricas bastante utilizadas para a avaliação de modelos de regressão são:\n",
    "\n",
    "- **R²**\n",
    "\n",
    "- **MAE**\n",
    "\n",
    "- **MAPE**\n",
    "\n",
    "- **MSE**\n",
    "\n",
    "- **RMSE**\n",
    "\n",
    "O objetivo da regressão linear é achar uma linha que tenha a melhor pontuação possível. Vamos entender cada uma."
   ]
  },
  {
   "cell_type": "markdown",
   "id": "de9fc390",
   "metadata": {},
   "source": [
    "___\n",
    "##  5.1 - R²\n",
    "\n",
    "A métrica ***R²*** representa o percentual da variância dos dados previstos pelo modelo. Os valores para ***R²***, podem variar entre números negativos até 1, onde 1 é um modelo perfeito.\n",
    "# <center> $R² (y, \\hat{y}) = 1  - \\frac{\\sum_{i=1}^n (y_{i} - \\hat{y}_{i})²}{\\sum_{i=1}^n (y_{i} - \\bar{y})²}$\n",
    "\n",
    "- $\\mathbf{y}$ - valores verdadeiros\n",
    "- $\\hat{\\mathbf{y}}$ - valores previstos\n",
    "- $\\bar{\\mathbf{y}}$ - média dos valores verdadeiros"
   ]
  },
  {
   "cell_type": "code",
   "execution_count": 49,
   "id": "6e6bcfce",
   "metadata": {},
   "outputs": [
    {
     "name": "stdout",
     "output_type": "stream",
     "text": [
      "R² do Primeiro Modelo: -0.80\n"
     ]
    }
   ],
   "source": [
    "def R2(y, y_pred):\n",
    "    return 1 - (np.sum((y - y_pred)**2)/ np.sum((y - np.mean(y))**2))\n",
    "\n",
    "r2 = R2(y_test, y_pred)\n",
    "print(f\"R² do Primeiro Modelo: {r2:.2f}\") #obtemos um score ruim"
   ]
  },
  {
   "cell_type": "markdown",
   "id": "053683d0",
   "metadata": {},
   "source": [
    "___\n",
    "## 5.2 - MAE\n",
    "\n",
    "A métrica **MAE** *(Mean Absolute Error)*, em português *Erro Médio Absoluto ou EMA*, como o nome sugere, nos informa a diferença média entre os valores verdadeiros e os valores previstos.\n",
    "# <center> $MAE(y, \\hat{y}) = \\frac{1}{n}\\sum_{i=1}^n|y_{i} - \\hat{y}_{i}|$\n",
    "\n",
    "- $\\mathbf{y}$ - valores verdadeiros\n",
    "- $\\hat{\\mathbf{y}}$ - valores previstos"
   ]
  },
  {
   "cell_type": "code",
   "execution_count": 50,
   "id": "9d1ee577",
   "metadata": {},
   "outputs": [
    {
     "name": "stdout",
     "output_type": "stream",
     "text": [
      "MAE do Primeiro Modelo: $46.02\n"
     ]
    }
   ],
   "source": [
    "def MAE(y, y_pred):\n",
    "    n = y.shape[0]\n",
    "    return 1/n * np.sum(abs(y-y_pred))\n",
    "\n",
    "mae = MAE(y_test, y_pred)\n",
    "print(f\"MAE do Primeiro Modelo: ${mae:.2f}\") #media de erros e de 46 dolares"
   ]
  },
  {
   "cell_type": "markdown",
   "id": "05b30d63",
   "metadata": {},
   "source": [
    "___\n",
    "##  5.3 - MAPE\n",
    "\n",
    "A métrica **MAPE** *(Mean Absolute Percentual Error)*, em português *Erro Médio Absoluto Percentual ou EMAP*,é parecido com a métrica **MAE** porém com uma divisão por $y_{i}$, isso nos informa a diferença percentual entre os valores verdadeiros e os valores previstos.\n",
    "\n",
    "# <center> $MAPE(y, \\hat{y}) = \\frac{1}{n}\\sum_{i=1}^n\\frac{|y_{i} - \\hat{y}_{i}|}{max(\\epsilon,|y_{i}|)}$\n",
    "\n",
    "- $\\mathbf{y}$ - valores verdadeiros\n",
    "- $\\hat{\\mathbf{y}}$ - valores previstos\n",
    "- $\\epsilon$ - uma constante muito pequena, que evita uma divisão nula caso $y_{i}$ seja igual a 0."
   ]
  },
  {
   "cell_type": "code",
   "execution_count": 51,
   "id": "ad5536c4",
   "metadata": {},
   "outputs": [
    {
     "name": "stdout",
     "output_type": "stream",
     "text": [
      "MAPE do Primeiro Modelo: 18.0% de diferença.\n"
     ]
    }
   ],
   "source": [
    "def MAPE(y, y_pred):\n",
    "    n = y.shape[0]\n",
    "    eps = np.finfo(np.float64).eps\n",
    "    y_eps = y.replace(0, eps)\n",
    "    return 1/n * np.sum(abs(y-y_pred)/y_eps)\n",
    "\n",
    "mape = MAPE(y_test, y_pred)\n",
    "print(f\"MAPE do Primeiro Modelo: {round(mape, 2)*100}% de diferença.\") #media de erros e de 35 dolares"
   ]
  },
  {
   "cell_type": "markdown",
   "id": "be7219c5",
   "metadata": {},
   "source": [
    "___\n",
    "##  5.4 - MSE\n",
    "\n",
    "A métrica **MSE** *(Mean Squared Error)*, em português *Erro Médio Quadrático*, também se parece à métrica **MAE**, porém, em vez de usar a forma absoluta dos vetores **$Y$** e **$\\hat{Y}$** , usa a sua diferença quadrática. Isso aumenta a discrepância para valores muito distantes. Logo, quanto maior o **MSE**, pior o nosso modelo.\n",
    "# <center> $MSE(y, \\hat{y}) = \\frac{1}{n}\\sum_{i=1}^n(y_{i} - \\hat{y}_{i})²$\n",
    "\n",
    "- $\\mathbf{y}$ - valores verdadeiros\n",
    "- $\\hat{\\mathbf{y}}$ - valores previstos"
   ]
  },
  {
   "cell_type": "code",
   "execution_count": 52,
   "id": "7f5d0db9",
   "metadata": {},
   "outputs": [
    {
     "name": "stdout",
     "output_type": "stream",
     "text": [
      "MSE do Primeiro Modelo: $3764.39\n"
     ]
    }
   ],
   "source": [
    "def MSE(y, y_pred):\n",
    "    n = y.shape[0]\n",
    "    return 1/n * np.sum((y-y_pred)**2)\n",
    "\n",
    "mse = MSE(y_test, y_pred)\n",
    "print(f\"MSE do Primeiro Modelo: ${mse:.2f}\") #Um pessimo valor de MSE, lembrando que queromos isso perto de 0"
   ]
  },
  {
   "cell_type": "markdown",
   "id": "58c6d6cb",
   "metadata": {},
   "source": [
    "##  5.5 - RMSE\n",
    "\n",
    "A métrica **RMSE** *(Root Mean Squared Error)*, em português *Raiz do Erro Médio Quadrático*, é simplismente a raiz quadrada da métrica **MSE**. Essa métrica pode ser mais interpretável que o modelo **MSE**. Além disso, ao contrário da métrica **MAE**, essa dá mais ênfase em outliers(pontos muito distantes da que a média).\n",
    "# <center> $RMSE(y, \\hat{y}) =\\sqrt{\\frac{1}{n}\\sum_{i=1}^n(y_{i} - \\hat{y}_{i})²}$\n",
    "\n",
    "- $\\mathbf{y}$ - valores verdadeiros\n",
    "- $\\hat{\\mathbf{y}}$ - valores previstos"
   ]
  },
  {
   "cell_type": "code",
   "execution_count": 53,
   "id": "f272d016",
   "metadata": {
    "scrolled": true
   },
   "outputs": [
    {
     "name": "stdout",
     "output_type": "stream",
     "text": [
      "RMSE do Primeiro Modelo: $61.35\n"
     ]
    }
   ],
   "source": [
    "def RMSE(y, y_pred):\n",
    "    n = y.shape[0]\n",
    "    MSE =  1/n * np.sum((y-y_pred)**2)\n",
    "    return np.sqrt(MSE)\n",
    "\n",
    "rmse = RMSE(y_test, y_pred)\n",
    "print(f\"RMSE do Primeiro Modelo: ${rmse:.2f}\") #Um pessimo valor de MSE, lembrando que queromos isso perto de 0"
   ]
  },
  {
   "cell_type": "markdown",
   "id": "4510fed1",
   "metadata": {},
   "source": [
    "> Agora que definimos nosso método de avaliação e testamos nosso modelo, vamos criar um dataframe com as métricas do nosso modelo, para compararmos futuramente."
   ]
  },
  {
   "cell_type": "code",
   "execution_count": 54,
   "id": "45db3dbd",
   "metadata": {
    "scrolled": true
   },
   "outputs": [
    {
     "data": {
      "text/html": [
       "<div>\n",
       "<style scoped>\n",
       "    .dataframe tbody tr th:only-of-type {\n",
       "        vertical-align: middle;\n",
       "    }\n",
       "\n",
       "    .dataframe tbody tr th {\n",
       "        vertical-align: top;\n",
       "    }\n",
       "\n",
       "    .dataframe thead th {\n",
       "        text-align: right;\n",
       "    }\n",
       "</style>\n",
       "<table border=\"1\" class=\"dataframe\">\n",
       "  <thead>\n",
       "    <tr style=\"text-align: right;\">\n",
       "      <th></th>\n",
       "      <th>Modelo</th>\n",
       "      <th>R²</th>\n",
       "      <th>MAE</th>\n",
       "      <th>MAPE</th>\n",
       "      <th>MSE</th>\n",
       "      <th>RMSE</th>\n",
       "    </tr>\n",
       "  </thead>\n",
       "  <tbody>\n",
       "    <tr>\n",
       "      <th>0</th>\n",
       "      <td>Modelo-01</td>\n",
       "      <td>-0.8</td>\n",
       "      <td>46.02</td>\n",
       "      <td>0.18</td>\n",
       "      <td>3764.39</td>\n",
       "      <td>61.35</td>\n",
       "    </tr>\n",
       "  </tbody>\n",
       "</table>\n",
       "</div>"
      ],
      "text/plain": [
       "      Modelo   R²    MAE  MAPE      MSE   RMSE\n",
       "0  Modelo-01 -0.8  46.02  0.18  3764.39  61.35"
      ]
     },
     "execution_count": 54,
     "metadata": {},
     "output_type": "execute_result"
    }
   ],
   "source": [
    "modelos = pd.DataFrame([[\"Modelo-01\", round(r2, 2),round(mae, 2),round(mape, 2),round(mse, 2),round(rmse, 2)]],\n",
    "                       columns=[\"Modelo\", \"R²\", \"MAE\", \"MAPE\", \"MSE\", \"RMSE\"])\n",
    "modelos"
   ]
  },
  {
   "cell_type": "markdown",
   "id": "989753c1",
   "metadata": {},
   "source": [
    ">Como podemos observar pelas pontuações do nosso modelo, ele não é muito eficiente. Nesse tipo de caso, com um grande número de dados, uma relação entre apenas 2 não oferece muito apoio além de uma noção visual. Então, o que faremos?</br>\n",
    "<br>Para melhor adptar uma reta em uma linha não contínua, precisamos analizar a relação de todos os pontos dos nosso conjunto de dados e encontrar uma relação de pesos que minimize minhas funções de custo. Existem várias formas de fazer isso, que veremos em breve.</br>"
   ]
  },
  {
   "cell_type": "markdown",
   "id": "ca9ab225",
   "metadata": {},
   "source": [
    "<a id=\"6\"></a>\n",
    "___\n",
    "# 6. Equação Normal\n",
    "\n",
    "A **Equação Normal** nos  retorna, de forma fechada e não iterativa, um vetor $\\boldsymbol\\theta$ que minimiza a função de custo **MSE**.\n",
    "\n",
    "# <center> **$\\widehat{\\theta}(X,Y) = (X^TX)^{⁻1}X^TY$**\n",
    "\n",
    "- $\\boldsymbol{\\widehat{\\theta}}$ - vetor de pesos que minimiza a função de custo\n",
    "- $\\bf\\it{X}$ - vetor de características\n",
    "- $\\bf\\it{Y}$ - vetor de rótulos"
   ]
  },
  {
   "cell_type": "markdown",
   "id": "65416dad",
   "metadata": {},
   "source": [
    ">Como vamos usar as funcoes vetorizadas para calcular nossa hipotese, precisamos transformar nossos vetores em numpy arrays, para calcular suas propriedades, e também adicionar uma colunar de **\"1\"**, pois a primeira coluna corresponde à coluna $\\boldsymbol{\\theta_{0}}$, que é o nosso viés, também chamado de interceptação. Lembrando que o viés é uma constante, então multiplicar por 1 não altera seu valor."
   ]
  },
  {
   "cell_type": "code",
   "execution_count": 55,
   "id": "13354e48",
   "metadata": {},
   "outputs": [
    {
     "data": {
      "text/plain": [
       "array([[1.000e+00, 0.000e+00],\n",
       "       [1.000e+00, 1.000e+00],\n",
       "       [1.000e+00, 2.000e+00],\n",
       "       ...,\n",
       "       [1.000e+00, 2.515e+03],\n",
       "       [1.000e+00, 2.516e+03],\n",
       "       [1.000e+00, 2.517e+03]])"
      ]
     },
     "execution_count": 55,
     "metadata": {},
     "output_type": "execute_result"
    }
   ],
   "source": [
    "#Vamos chamar nosso vetor com a coluna de 1s de X1\n",
    "X1 = np.c_[np.ones((X.shape)), X.to_numpy()]\n",
    "X1"
   ]
  },
  {
   "cell_type": "code",
   "execution_count": 56,
   "id": "9282aec9",
   "metadata": {},
   "outputs": [],
   "source": [
    "#Vamos dividir novamente o nosso novo X em treino e teste\n",
    "X_train, X_test = X1[:2250], X1[2250:]"
   ]
  },
  {
   "cell_type": "code",
   "execution_count": 57,
   "id": "56395db1",
   "metadata": {},
   "outputs": [
    {
     "data": {
      "text/plain": [
       "array([26.91542928,  0.06609733])"
      ]
     },
     "execution_count": 57,
     "metadata": {},
     "output_type": "execute_result"
    }
   ],
   "source": [
    "def equacao_normal(X, y):\n",
    "    return np.linalg.inv(X.T.dot(X)).dot(X.T).dot(y)\n",
    "\n",
    "coef_en = equacao_normal(X_train, y_train) #vetor de coeficientes, ou pesos, da equacao normal\n",
    "\n",
    "#vamos adicionar \"_en\" ao final das nossas variaveis para saber de qual formula ela corresponde\n",
    "#EN - Equação Normal\n",
    "coef_en"
   ]
  },
  {
   "cell_type": "code",
   "execution_count": 58,
   "id": "18bc7514",
   "metadata": {},
   "outputs": [
    {
     "data": {
      "text/plain": [
       "array([26.91542928,  0.06609733])"
      ]
     },
     "execution_count": 58,
     "metadata": {},
     "output_type": "execute_result"
    }
   ],
   "source": [
    "#Uma forma alternativa, é usar a função \"lstsq\" do modulo linalg da numpy, que retorna o mesmo resultado\n",
    "np.linalg.lstsq(X_train, y_train, rcond=None)[0]"
   ]
  },
  {
   "cell_type": "code",
   "execution_count": 59,
   "id": "4d004803",
   "metadata": {},
   "outputs": [
    {
     "data": {
      "text/plain": [
       "(array([0.        , 0.06609733]), 26.91542927603531)"
      ]
     },
     "execution_count": 59,
     "metadata": {},
     "output_type": "execute_result"
    }
   ],
   "source": [
    "# sklearn LinearRegression class\n",
    "from sklearn.linear_model import LinearRegression\n",
    "linreg_sk = LinearRegression()\n",
    "linreg_sk.fit(X_train, y_train)\n",
    "linreg_sk.coef_, linreg_sk.intercept_"
   ]
  },
  {
   "cell_type": "markdown",
   "id": "bd3a20f1",
   "metadata": {},
   "source": [
    "> Vamos testar esses pesos usando elas na forma vetorizada da função linear. \n",
    "Relembrando que:\n",
    "\n",
    "# <center> $\\hat{y} = \\boldsymbol{\\theta}^TX$ </center>\n",
    "\n",
    "\n"
   ]
  },
  {
   "cell_type": "code",
   "execution_count": 60,
   "id": "4d2e5672",
   "metadata": {},
   "outputs": [],
   "source": [
    "def predict(X, theta):\n",
    "    \"\"\"Funcao Linear Vetorizada, vamos chamar de predict,\n",
    "    pois vamos seguir a norma da biblioteca Scikit Learn\n",
    "    \"\"\"\n",
    "    return np.dot(theta, X.T)"
   ]
  },
  {
   "cell_type": "code",
   "execution_count": 76,
   "id": "93502bb2",
   "metadata": {},
   "outputs": [],
   "source": [
    "#Vamos prever os valores com nossos coeficientes gerados\n",
    "y_pred_en = predict(X_test, coef_en)"
   ]
  },
  {
   "cell_type": "code",
   "execution_count": 77,
   "id": "c28adc6e",
   "metadata": {},
   "outputs": [],
   "source": [
    "def pontuacao(y_test, y_pred, nome):\n",
    "    r2 = R2(y_test, y_pred)\n",
    "    mae = MAE(y_test, y_pred)\n",
    "    mape = MAPE(y_test, y_pred)\n",
    "    mse = MSE(y_test, y_pred)\n",
    "    rmse = RMSE(y_test, y_pred)\n",
    "    return pd.DataFrame([[nome , round(r2, 2),round(mae, 2),round(mape, 2),round(mse, 2),round(rmse, 2)]],\n",
    "                       columns=[\"Modelo\", \"R²\", \"MAE\", \"MAPE\", \"MSE\", \"RMSE\"])\n",
    "\n",
    "pontuacao_en = pontuacao(y_test, y_pred_en, \"Modelo-EN\")"
   ]
  },
  {
   "cell_type": "code",
   "execution_count": 78,
   "id": "d7dc8ca6",
   "metadata": {
    "scrolled": false
   },
   "outputs": [
    {
     "data": {
      "text/html": [
       "<div>\n",
       "<style scoped>\n",
       "    .dataframe tbody tr th:only-of-type {\n",
       "        vertical-align: middle;\n",
       "    }\n",
       "\n",
       "    .dataframe tbody tr th {\n",
       "        vertical-align: top;\n",
       "    }\n",
       "\n",
       "    .dataframe thead th {\n",
       "        text-align: right;\n",
       "    }\n",
       "</style>\n",
       "<table border=\"1\" class=\"dataframe\">\n",
       "  <thead>\n",
       "    <tr style=\"text-align: right;\">\n",
       "      <th></th>\n",
       "      <th>Modelo</th>\n",
       "      <th>R²</th>\n",
       "      <th>MAE</th>\n",
       "      <th>MAPE</th>\n",
       "      <th>MSE</th>\n",
       "      <th>RMSE</th>\n",
       "    </tr>\n",
       "  </thead>\n",
       "  <tbody>\n",
       "    <tr>\n",
       "      <th>0</th>\n",
       "      <td>Modelo-01</td>\n",
       "      <td>-0.80</td>\n",
       "      <td>46.02</td>\n",
       "      <td>0.18</td>\n",
       "      <td>3764.39</td>\n",
       "      <td>61.35</td>\n",
       "    </tr>\n",
       "    <tr>\n",
       "      <th>0</th>\n",
       "      <td>Modelo-EN</td>\n",
       "      <td>-0.73</td>\n",
       "      <td>44.69</td>\n",
       "      <td>0.17</td>\n",
       "      <td>3606.03</td>\n",
       "      <td>60.05</td>\n",
       "    </tr>\n",
       "  </tbody>\n",
       "</table>\n",
       "</div>"
      ],
      "text/plain": [
       "      Modelo    R²    MAE  MAPE      MSE   RMSE\n",
       "0  Modelo-01 -0.80  46.02  0.18  3764.39  61.35\n",
       "0  Modelo-EN -0.73  44.69  0.17  3606.03  60.05"
      ]
     },
     "execution_count": 78,
     "metadata": {},
     "output_type": "execute_result"
    }
   ],
   "source": [
    "modelos = modelos.append(pontuacao_en)\n",
    "modelos"
   ]
  },
  {
   "cell_type": "markdown",
   "id": "df4af92f",
   "metadata": {},
   "source": [
    "> Vamos comparar nossas previsções em um gráfico."
   ]
  },
  {
   "cell_type": "code",
   "execution_count": 79,
   "id": "9e14ca5a",
   "metadata": {},
   "outputs": [],
   "source": [
    "y_all = funcao_linear(X, m, b)  # Reta usando o primeiro modelo\n",
    "y_all_en = predict(X1, coef_en) # Reta usando o modelo de equação normal"
   ]
  },
  {
   "cell_type": "code",
   "execution_count": 80,
   "id": "b20c81de",
   "metadata": {
    "scrolled": true
   },
   "outputs": [
    {
     "data": {
      "image/png": "[encoded data removed]",
      "text/plain": [
       "<Figure size 1008x360 with 1 Axes>"
      ]
     },
     "metadata": {
      "needs_background": "light"
     },
     "output_type": "display_data"
    }
   ],
   "source": [
    "plt.figure(\"4\", figsize=(14,5))\n",
    "plt.title(\"Comparação entre os Preços Reais e nossas Previsões\", fontdict = {\"fontsize\":20})\n",
    "plt.plot(X_train[:,1], y_train, label=\"Y - Treino\")\n",
    "plt.plot(X_test[:,1], y_test, c=\"purple\", label=\"Y - Teste\")\n",
    "plt.plot(X, y_all, \"r\", label=\"Reta Modelo-01\")\n",
    "plt.plot(X, y_all_en, label= \"Reta Equação Normal\")\n",
    "plt.fill_between(np.hstack([X_train[:,1], X_test[:,1]]), y_all, np.hstack([y_train, y_test]), alpha=0.2)\n",
    "plt.legend()\n",
    "plt.tight_layout()"
   ]
  },
  {
   "cell_type": "markdown",
   "id": "9f61f5d6",
   "metadata": {},
   "source": [
    "<a id=\"7\"></a>\n",
    "___\n",
    "# 7. Concusão\n",
    "\n",
    "Por mais que nosso modelo que usa a **Equação Normal** tenha nos retornado a reta com o menor erro médio para o conjunto de treino seja melhor que a nossa reta que usamos apenas o primeiro e últimos valores de *y* como base. Ainda não obtivemos um modelo bom o suficiente para conseguir prever com precisão os preços futuros. \n",
    "\n",
    "Esse capítulo serviu para aprendermos conceitos de Regressão e Regressão Linear, e mesmo sem termos construído um modelo robusto o suficiente, o nosso objetivo de entender as questões que foram abertas foi atingido.\n",
    "\n",
    "Entendemos que um modelo símples como uma Regressão Linear de 1⁰ grau, não é robusto o suficiente para prever os padrões de algo complexo e com alta variância como o preço de ações. Porém, esse é apenas o primeiro passo da nossa jornada, e ao longo desse livro, vamos conhecer modelos muito mais capazes de lidar com diversos tipos de situaçoes e dados, até mesmo ações.\n",
    "\n",
    "Logo, não se desanime, pois no próximo capítulo vamos aprender a usar uma forma mais robusta de regressão linear, capaz de se adequar a dados com uma variância maior."
   ]
  },
  {
   "cell_type": "markdown",
   "id": "96d826aa",
   "metadata": {},
   "source": [
    "<div class=\"alert alert-block alert-success\">\n",
    "    <h1>Parabéns!</h1> <h3>Você completou o Capítulo 1 do livro: <b>Ensinando Máquinas - Do Zero a Redes Neurais</b></h3>\n",
    "</div>"
   ]
  },
  {
   "cell_type": "markdown",
   "id": "24fb365d",
   "metadata": {},
   "source": [
    "___\n",
    "# Desafio\n",
    "\n",
    "- Como um desafio para o final desse capítulo, usando os **Preços de Abertura** como conjunto de características, crie e treine um modelo que preveja o **Preço de Fechamento** para o último dia contido no dataset e avalie sua pontuação."
   ]
  },
  {
   "cell_type": "code",
   "execution_count": null,
   "id": "41c30608",
   "metadata": {},
   "outputs": [],
   "source": []
  },
  {
   "cell_type": "code",
   "execution_count": null,
   "id": "7ea82a9f",
   "metadata": {},
   "outputs": [],
   "source": []
  }
 ],
 "metadata": {
  "kernelspec": {
   "display_name": "Python [conda env:machine-learning] *",
   "language": "python",
   "name": "conda-env-machine-learning-py"
  },
  "language_info": {
   "codemirror_mode": {
    "name": "ipython",
    "version": 3
   },
   "file_extension": ".py",
   "mimetype": "text/x-python",
   "name": "python",
   "nbconvert_exporter": "python",
   "pygments_lexer": "ipython3",
   "version": "3.7.7"
  }
 },
 "nbformat": 4,
 "nbformat_minor": 5
}
